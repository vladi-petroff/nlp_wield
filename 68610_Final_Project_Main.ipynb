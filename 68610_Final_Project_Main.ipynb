{
  "cells": [
    {
      "cell_type": "code",
      "execution_count": null,
      "metadata": {
        "id": "DSD6f4AiNpGa"
      },
      "outputs": [],
      "source": [
        "%%capture\n",
        "!pip install datasets\n",
        "!pip install transformers"
      ]
    },
    {
      "cell_type": "code",
      "execution_count": null,
      "metadata": {
        "id": "63ZqhzEFELP2"
      },
      "outputs": [],
      "source": [
        "import numpy as np\n",
        "import pandas as pd\n",
        "import torch\n",
        "from datasets import load_dataset, load_from_disk\n",
        "import pickle"
      ]
    },
    {
      "cell_type": "markdown",
      "metadata": {
        "id": "ZBuK-mOoNQX4"
      },
      "source": [
        "# Load Dataset\n",
        "\n",
        "Includes image embeddings."
      ]
    },
    {
      "cell_type": "code",
      "execution_count": null,
      "metadata": {
        "colab": {
          "base_uri": "https://localhost:8080/"
        },
        "id": "ainCPTaVrh_0",
        "outputId": "9d04fbc0-3e95-4c1b-ab24-b1275709c431"
      },
      "outputs": [
        {
          "name": "stdout",
          "output_type": "stream",
          "text": [
            "Mounted at /content/drive\n"
          ]
        }
      ],
      "source": [
        "import os\n",
        "from google.colab import drive\n",
        "drive.mount('/content/drive')\n",
        "\n",
        "DRIVE_BASE_PATH = os.path.join(\"/content/drive/My Drive\", \"MIT 6.8610\")"
      ]
    },
    {
      "cell_type": "code",
      "execution_count": null,
      "metadata": {
        "id": "z__MK07KM_FV"
      },
      "outputs": [],
      "source": [
        "def load_dataset_from_colab(dataset_name, data_folder):\n",
        "    drive_base_folder = \"MIT 6.8610\"\n",
        "\n",
        "    dataset_path = os.path.join(\n",
        "            DRIVE_BASE_PATH,\n",
        "            f\"{data_folder}/{dataset_name}\"\n",
        "    )\n",
        "    return load_from_disk(dataset_path)"
      ]
    },
    {
      "cell_type": "code",
      "execution_count": null,
      "metadata": {
        "id": "98Q0oewyrjPT"
      },
      "outputs": [],
      "source": [
        "# Load data\n",
        "# train_data_name = \"train_data_10000_1701296984.8426719.hf\" # 10,000 datapoints\n",
        "train_data_name = \"train_data_100000_1701475168.5889082.hf\" # 100,000 datapoints\n",
        "train_data = load_dataset_from_colab(train_data_name, data_folder=\"Train Data Agg\")"
      ]
    },
    {
      "cell_type": "code",
      "execution_count": null,
      "metadata": {
        "colab": {
          "base_uri": "https://localhost:8080/"
        },
        "id": "y9TVCKZPRxhu",
        "outputId": "a5334655-f840-48b9-871a-198dac94a55e"
      },
      "outputs": [
        {
          "data": {
            "text/plain": [
              "Dataset({\n",
              "    features: ['image_url', 'caption', 'image_embedding'],\n",
              "    num_rows: 81980\n",
              "})"
            ]
          },
          "execution_count": 7,
          "metadata": {},
          "output_type": "execute_result"
        }
      ],
      "source": [
        "train_data = train_data.filter(lambda item: item[\"image_embedding\"] is not None)\n",
        "train_data"
      ]
    },
    {
      "cell_type": "markdown",
      "metadata": {
        "id": "rS7tWnjvpQgU"
      },
      "source": [
        "# Modeling"
      ]
    },
    {
      "cell_type": "code",
      "execution_count": null,
      "metadata": {
        "id": "kPjWyCsr4RPI"
      },
      "outputs": [],
      "source": [
        "import torch\n",
        "import torch.nn as nn\n",
        "import torch.nn.functional as F\n",
        "import torch.optim as optim\n",
        "import torch.utils.data as torch_data\n",
        "\n",
        "import re\n",
        "import string\n",
        "import random\n",
        "\n",
        "import matplotlib.pyplot as plt\n",
        "\n",
        "from tqdm import tqdm\n",
        "from datetime import datetime\n",
        "\n",
        "from sklearn.decomposition import PCA"
      ]
    },
    {
      "cell_type": "markdown",
      "metadata": {
        "id": "bZSRz28lbvjo"
      },
      "source": [
        "## Hyper-parameters"
      ]
    },
    {
      "cell_type": "code",
      "execution_count": null,
      "metadata": {
        "id": "OZ0hWTqsZyyn"
      },
      "outputs": [],
      "source": [
        "# Constants\n",
        "IMAGE_EMBEDDING_SIZE = 768\n",
        "\n",
        "# Hyper-parameters\n",
        "FREQUENCY_THRESHOLD = 5\n",
        "WINDOW_SIZE = 5\n",
        "WORD_EMBEDDING_SIZE = 100\n",
        "BATCH_SIZE = 20\n",
        "N_EPOCHS = 20\n",
        "\n",
        "# For new image-enhanced model only\n",
        "IMAGE_PCA_SIZE = 32"
      ]
    },
    {
      "cell_type": "markdown",
      "metadata": {
        "id": "AOMFGQBxZBuL"
      },
      "source": [
        "## Tokenization and N-Gram Helpers"
      ]
    },
    {
      "cell_type": "code",
      "execution_count": null,
      "metadata": {
        "id": "sIEE76WLfJwq"
      },
      "outputs": [],
      "source": [
        "def show_similar_words(tokenizer, reps, tokens):\n",
        "    reps = reps / (np.sqrt((reps ** 2).sum(axis=1, keepdims=True)))\n",
        "    #for i, (word, token) in enumerate(tokenizer.word_to_token.items()):\n",
        "    for token in tokens:\n",
        "        word = tokenizer.token_to_word[token]\n",
        "        rep = reps[token, :]\n",
        "        sims = ((reps - rep) ** 2).sum(axis=1)\n",
        "        nearest = np.argsort(sims)\n",
        "        print(word, token)\n",
        "        for j in nearest[1:6]:\n",
        "            print(\" \", tokenizer.token_to_word[j], \"%.3f\" % sims[j])\n",
        "\n",
        "class Tokenizer:\n",
        "  def __init__(self, min_occur=FREQUENCY_THRESHOLD):\n",
        "    self.word_to_token = {}\n",
        "    self.token_to_word = {}\n",
        "    self.word_count = {}\n",
        "\n",
        "    self.word_to_token['<unk>'] = 0\n",
        "    self.token_to_word[0] = '<unk>'\n",
        "    self.vocab_size = 1\n",
        "\n",
        "    self.min_occur = min_occur\n",
        "\n",
        "  def fit(self, corpus):\n",
        "    for caption in corpus:\n",
        "      caption = caption.strip().lower()\n",
        "      words = re.findall(r\"[\\w']+|[.,!?;]\", caption)\n",
        "      for word in words:\n",
        "          if word not in self.word_count:\n",
        "              self.word_count[word] = 0\n",
        "          self.word_count[word] += 1\n",
        "\n",
        "    for caption in corpus:\n",
        "      caption = caption.strip().lower()\n",
        "      words = re.findall(r\"[\\w']+|[.,!?;]\", caption)\n",
        "      for word in words:\n",
        "        if self.word_count[word] < self.min_occur:\n",
        "          continue\n",
        "        if word in self.word_to_token:\n",
        "          continue\n",
        "        self.word_to_token[word] = self.vocab_size\n",
        "        self.token_to_word[self.vocab_size] = word\n",
        "        self.vocab_size += 1\n",
        "\n",
        "  def tokenize(self, corpus):\n",
        "    tokenized_corpus = []\n",
        "    for review in corpus:\n",
        "      review = review.strip().lower()\n",
        "      words = re.findall(r\"[\\w']+|[.,!?;]\", review)\n",
        "      tokenized_review = []\n",
        "      for word in words:\n",
        "        if word not in self.word_to_token:\n",
        "          tokenized_review.append(0)\n",
        "        else:\n",
        "          tokenized_review.append(self.word_to_token[word])\n",
        "      tokenized_corpus.append(tokenized_review)\n",
        "    return tokenized_corpus\n",
        "\n",
        "  def de_tokenize(self, tokenized_corpus):\n",
        "    corpus = []\n",
        "    for tokenized_review in tokenized_corpus:\n",
        "      review = []\n",
        "      for token in tokenized_review:\n",
        "        review.append(self.token_to_word[token])\n",
        "      corpus.append(\" \".join(review))\n",
        "    return corpus\n",
        "\n",
        "def get_ngrams(tokenized_caption, window_size, pad_idx, image_embedding=None):\n",
        "    ngrams = []\n",
        "    for j, word in enumerate(tokenized_caption):\n",
        "        min_ind = max(0, j-window_size)\n",
        "        max_ind = min(len(tokenized_caption), j+window_size+1)\n",
        "        ctx = np.zeros(2 * window_size, dtype=np.int64) + pad_idx\n",
        "        for ik, k in enumerate(range(min_ind, j)):\n",
        "            ctx[ik] = tokenized_caption[k]\n",
        "        for ik, k in enumerate(range(j+1, max_ind)):\n",
        "            ctx[window_size+ik] = tokenized_caption[k]\n",
        "\n",
        "        if image_embedding is not None:\n",
        "          ngrams.append((ctx, image_embedding, tokenized_caption[j]))\n",
        "        else:\n",
        "          ngrams.append((ctx, tokenized_caption[j]))\n",
        "    return ngrams"
      ]
    },
    {
      "cell_type": "markdown",
      "metadata": {
        "id": "J5CYWHG-iAI8"
      },
      "source": [
        "## Image-Enhanced Word2Vec Model (first attempt)"
      ]
    },
    {
      "cell_type": "code",
      "execution_count": null,
      "metadata": {
        "id": "ybeU3VjLZ-sz"
      },
      "outputs": [],
      "source": [
        "class CustomLinear(nn.Module):\n",
        "    def __init__(self, in_features, out_features, embedding_size, image_embedding_size, LAMBDA = 0):\n",
        "        super(CustomLinear, self).__init__()\n",
        "        self.linear = nn.Linear(in_features, out_features, bias=True)\n",
        "\n",
        "        self.embedding_size = embedding_size\n",
        "        self.image_embedding_size = image_embedding_size\n",
        "        self.LAMBDA = LAMBDA\n",
        "        self.weight = self.linear.weight\n",
        "        # LAMBDA=1 weights word and image embeddings equally;\n",
        "        # 0 only weights word embeddings; inf only weights image embeddings\n",
        "\n",
        "    def forward(self, x):\n",
        "        # Assuming x is a 2D tensor with shape (batch_size, in_features)\n",
        "        # Get the original weights and biases\n",
        "        original_weights = self.linear.weight\n",
        "        original_biases = self.linear.bias\n",
        "\n",
        "        # Manipulate weights (for example, multiply each weight by its column index)\n",
        "        # modified_weights = original_weights * torch.arange(original_weights.size(1)).float().view(1, -1)\n",
        "\n",
        "        multiplicator = (torch.tensor([1 / (1 + self.LAMBDA)] * self.embedding_size + [self.LAMBDA / (1 + self.LAMBDA)] * self.image_embedding_size).float().view(1, -1)).to('cuda')\n",
        "        modified_weights = (original_weights * multiplicator).to('cuda')\n",
        "\n",
        "        # Apply the linear transformation with modified weights and biases\n",
        "        result = torch.matmul(x, modified_weights.t()) + original_biases\n",
        "\n",
        "        return result\n",
        "\n",
        "\n",
        "class ImageEnhancedWord2VecModel(nn.Module):\n",
        "    def __init__(self, vocab_size, embedding_size, padding_idx, LAMBDA):\n",
        "        super().__init__()\n",
        "        print(\"Vocab size:\", vocab_size)\n",
        "        self.padded_size = vocab_size + 1 # padding for constant length\n",
        "\n",
        "        # Embedding layer for context words\n",
        "        self.input_embedding = nn.Embedding(self.padded_size, embedding_size, padding_idx=padding_idx).to('cuda') # run on colab gpu\n",
        "\n",
        "        # Embedding layer for target words\n",
        "        # self.output_embedding = nn.Linear(embedding_size + image_embedding_size, vocab_size).to('cuda')\n",
        "\n",
        "        self.output_embedding = CustomLinear(embedding_size + IMAGE_EMBEDDING_SIZE, vocab_size, embedding_size, IMAGE_EMBEDDING_SIZE, LAMBDA).to('cuda')\n",
        "\n",
        "    def forward(self, context, image_embedding):\n",
        "        # out put vector dotted summed input context vectors/context window size\n",
        "\n",
        "         # Embed context words\n",
        "        context_embeddings = self.input_embedding(context)  # Shape: n_batch x n_context x embedding_size\n",
        "\n",
        "        # Sum the embeddings along the context dimension\n",
        "        summed_context = context_embeddings.sum(dim=1)  # Shape: n_batch x embedding_size\n",
        "        combined_context = torch.cat((summed_context, image_embedding), dim=1)\n",
        "\n",
        "        predicted_scores = self.output_embedding(combined_context)\n",
        "\n",
        "        return predicted_scores\n"
      ]
    },
    {
      "cell_type": "code",
      "execution_count": null,
      "metadata": {
        "id": "0LfcU-h_cwHr"
      },
      "outputs": [],
      "source": [
        "def learn_reps_image_enhanced_word2vec(captions, image_embeds, window_size, rep_size, n_epochs, n_batch, LAMBDA):\n",
        "    # This method takes in a corpus of training sentences. It returns a matrix of\n",
        "    # word embeddings with the same structure as used in the previous section of\n",
        "    # the assignment. (You can extract this matrix from the parameters of the\n",
        "    # Word2VecModel.)\n",
        "\n",
        "    tokenizer = Tokenizer()\n",
        "    tokenizer.fit(captions)\n",
        "    tokenized_captions = tokenizer.tokenize(captions)\n",
        "    ngrams = []\n",
        "    pad_idx = tokenizer.vocab_size\n",
        "\n",
        "    for i, cap in enumerate(tokenized_captions):\n",
        "      try:\n",
        "        ngrams_i = get_ngrams(cap, window_size, pad_idx, image_embedding=torch.tensor(image_embeds[i]))\n",
        "        ngrams.extend(ngrams_i)\n",
        "      except:\n",
        "        continue\n",
        "\n",
        "    device = torch.device('cuda')  # run on colab gpu\n",
        "    model = ImageEnhancedWord2VecModel(tokenizer.vocab_size, rep_size, pad_idx, LAMBDA).to(device)\n",
        "    opt = optim.Adam(model.parameters(), lr=0.001)\n",
        "\n",
        "    loader = torch_data.DataLoader(ngrams, batch_size=n_batch, shuffle=True)\n",
        "\n",
        "    loss_fn = nn.CrossEntropyLoss()\n",
        "\n",
        "    losses = []  # Potentially useful for debugging (loss should go down!)\n",
        "    for epoch in tqdm(range(n_epochs)):\n",
        "        epoch_loss = 0\n",
        "\n",
        "        for context, image_embedding, label in loader:\n",
        "            context=context.to(device)\n",
        "            image_embedding = image_embedding.to(device)\n",
        "            label = label.to(device)\n",
        "            preds = model(context, image_embedding)\n",
        "\n",
        "            loss = loss_fn(preds,label)\n",
        "            opt.zero_grad()\n",
        "            loss.backward()\n",
        "            opt.step()\n",
        "\n",
        "            epoch_loss += loss.item()\n",
        "        losses.append(epoch_loss)\n",
        "        print(f\"epoch : {epoch}, epoch_loss = {epoch_loss}\")\n",
        "\n",
        "    epochs = range(1, len(losses) + 1)\n",
        "\n",
        "    # Create a line plot of losses\n",
        "    plt.plot(epochs, losses, marker='o', linestyle='-')\n",
        "    plt.title(f'Loss: n_samples={len(train_data)}, lambda={LAMBDA}')\n",
        "    plt.xlabel('Epochs or Iterations')\n",
        "    plt.ylabel('Loss')\n",
        "    plt.grid(True)\n",
        "\n",
        "    # Show the plot\n",
        "    plt.show()\n",
        "    embedding_matrix = model.input_embedding.weight.cpu().detach().numpy()[:tokenizer.vocab_size,:]\n",
        "\n",
        "    # Download the embeddings and tokenization for future use\n",
        "    current_time = datetime.now().strftime(\"%m-%d-%H:%M\")\n",
        "    full_file_path = os.path.join(DRIVE_BASE_PATH, f\"Result Embeddings/Image-Enhanced Model/w2v_enhanced_embeddings_{len(train_data)}_samples_lambda_{LAMBDA}\")\n",
        "    with open(full_file_path, 'wb') as file:\n",
        "      data = {\"embeddings\": embedding_matrix, \"word_to_token\": tokenizer.word_to_token}\n",
        "      pickle.dump(data, file)\n",
        "\n",
        "    return model, embedding_matrix, tokenizer.word_to_token"
      ]
    },
    {
      "cell_type": "code",
      "execution_count": null,
      "metadata": {
        "id": "9kvsIXnvmFC1"
      },
      "outputs": [],
      "source": [
        "models_enhanced, reps_enhanced, word_to_token_enhanced = {}, {}, {}\n",
        "\n",
        "LAMBDAS_TO_TRY = [0, 0.25, 1]\n",
        "LAMBDAS_TO_TRY = [0.1]\n",
        "LAMBDAS_TO_TRY = [1]"
      ]
    },
    {
      "cell_type": "code",
      "execution_count": null,
      "metadata": {
        "colab": {
          "base_uri": "https://localhost:8080/",
          "height": 871
        },
        "id": "KgGAMyd1fO1h",
        "outputId": "3d805950-9993-48d0-eb86-93f1ce0f973b"
      },
      "outputs": [
        {
          "name": "stdout",
          "output_type": "stream",
          "text": [
            "bulding model for LAM = 1\n",
            "Vocab size: 8130\n"
          ]
        },
        {
          "name": "stderr",
          "output_type": "stream",
          "text": [
            "  5%|▌         | 1/20 [01:40<31:50, 100.54s/it]"
          ]
        },
        {
          "name": "stdout",
          "output_type": "stream",
          "text": [
            "epoch : 0, epoch_loss = 205297.55708098412\n"
          ]
        },
        {
          "name": "stderr",
          "output_type": "stream",
          "text": [
            "\r 10%|█         | 2/20 [03:19<29:55, 99.76s/it] "
          ]
        },
        {
          "name": "stdout",
          "output_type": "stream",
          "text": [
            "epoch : 1, epoch_loss = 165955.19229662418\n"
          ]
        },
        {
          "name": "stderr",
          "output_type": "stream",
          "text": [
            "\r 15%|█▌        | 3/20 [04:58<28:11, 99.49s/it]"
          ]
        },
        {
          "name": "stdout",
          "output_type": "stream",
          "text": [
            "epoch : 2, epoch_loss = 151018.74868118763\n"
          ]
        },
        {
          "name": "stderr",
          "output_type": "stream",
          "text": [
            "\r 20%|██        | 4/20 [06:37<26:28, 99.27s/it]"
          ]
        },
        {
          "name": "stdout",
          "output_type": "stream",
          "text": [
            "epoch : 3, epoch_loss = 141755.3447227478\n"
          ]
        },
        {
          "name": "stderr",
          "output_type": "stream",
          "text": [
            "\r 25%|██▌       | 5/20 [08:17<24:48, 99.24s/it]"
          ]
        },
        {
          "name": "stdout",
          "output_type": "stream",
          "text": [
            "epoch : 4, epoch_loss = 135363.6887960434\n"
          ]
        },
        {
          "name": "stderr",
          "output_type": "stream",
          "text": [
            "\r 30%|███       | 6/20 [09:56<23:08, 99.19s/it]"
          ]
        },
        {
          "name": "stdout",
          "output_type": "stream",
          "text": [
            "epoch : 5, epoch_loss = 130479.49818742275\n"
          ]
        },
        {
          "name": "stderr",
          "output_type": "stream",
          "text": [
            "\r 35%|███▌      | 7/20 [11:35<21:29, 99.17s/it]"
          ]
        },
        {
          "name": "stdout",
          "output_type": "stream",
          "text": [
            "epoch : 6, epoch_loss = 126534.76422667503\n"
          ]
        },
        {
          "name": "stderr",
          "output_type": "stream",
          "text": [
            "\r 40%|████      | 8/20 [13:13<19:48, 99.03s/it]"
          ]
        },
        {
          "name": "stdout",
          "output_type": "stream",
          "text": [
            "epoch : 7, epoch_loss = 123311.67099940777\n"
          ]
        },
        {
          "name": "stderr",
          "output_type": "stream",
          "text": [
            "\r 45%|████▌     | 9/20 [14:53<18:10, 99.18s/it]"
          ]
        },
        {
          "name": "stdout",
          "output_type": "stream",
          "text": [
            "epoch : 8, epoch_loss = 120660.48837918043\n"
          ]
        },
        {
          "name": "stderr",
          "output_type": "stream",
          "text": [
            "\r 50%|█████     | 10/20 [16:32<16:30, 99.09s/it]"
          ]
        },
        {
          "name": "stdout",
          "output_type": "stream",
          "text": [
            "epoch : 9, epoch_loss = 118487.61268687248\n"
          ]
        },
        {
          "name": "stderr",
          "output_type": "stream",
          "text": [
            "\r 55%|█████▌    | 11/20 [18:11<14:52, 99.19s/it]"
          ]
        },
        {
          "name": "stdout",
          "output_type": "stream",
          "text": [
            "epoch : 10, epoch_loss = 116491.10988152027\n"
          ]
        },
        {
          "name": "stderr",
          "output_type": "stream",
          "text": [
            "\r 60%|██████    | 12/20 [19:51<13:14, 99.30s/it]"
          ]
        },
        {
          "name": "stdout",
          "output_type": "stream",
          "text": [
            "epoch : 11, epoch_loss = 114834.69659245014\n"
          ]
        },
        {
          "name": "stderr",
          "output_type": "stream",
          "text": [
            "\r 65%|██████▌   | 13/20 [21:30<11:34, 99.27s/it]"
          ]
        },
        {
          "name": "stdout",
          "output_type": "stream",
          "text": [
            "epoch : 12, epoch_loss = 113334.91475975513\n"
          ]
        },
        {
          "name": "stderr",
          "output_type": "stream",
          "text": [
            "\r 70%|███████   | 14/20 [23:09<09:54, 99.16s/it]"
          ]
        },
        {
          "name": "stdout",
          "output_type": "stream",
          "text": [
            "epoch : 13, epoch_loss = 112008.27359008789\n"
          ]
        },
        {
          "name": "stderr",
          "output_type": "stream",
          "text": [
            "\r 75%|███████▌  | 15/20 [24:48<08:15, 99.11s/it]"
          ]
        },
        {
          "name": "stdout",
          "output_type": "stream",
          "text": [
            "epoch : 14, epoch_loss = 110857.12300473452\n"
          ]
        },
        {
          "name": "stderr",
          "output_type": "stream",
          "text": [
            "\r 80%|████████  | 16/20 [26:27<06:36, 99.09s/it]"
          ]
        },
        {
          "name": "stdout",
          "output_type": "stream",
          "text": [
            "epoch : 15, epoch_loss = 109803.9779920578\n"
          ]
        },
        {
          "name": "stderr",
          "output_type": "stream",
          "text": [
            "\r 85%|████████▌ | 17/20 [28:07<04:57, 99.27s/it]"
          ]
        },
        {
          "name": "stdout",
          "output_type": "stream",
          "text": [
            "epoch : 16, epoch_loss = 108914.7253485918\n"
          ]
        },
        {
          "name": "stderr",
          "output_type": "stream",
          "text": [
            "\r 90%|█████████ | 18/20 [29:46<03:18, 99.31s/it]"
          ]
        },
        {
          "name": "stdout",
          "output_type": "stream",
          "text": [
            "epoch : 17, epoch_loss = 108078.10131794214\n"
          ]
        },
        {
          "name": "stderr",
          "output_type": "stream",
          "text": [
            "\r 95%|█████████▌| 19/20 [31:25<01:39, 99.31s/it]"
          ]
        },
        {
          "name": "stdout",
          "output_type": "stream",
          "text": [
            "epoch : 18, epoch_loss = 107264.13471961021\n"
          ]
        },
        {
          "name": "stderr",
          "output_type": "stream",
          "text": [
            "100%|██████████| 20/20 [33:05<00:00, 99.28s/it]"
          ]
        },
        {
          "name": "stdout",
          "output_type": "stream",
          "text": [
            "epoch : 19, epoch_loss = 106504.4862024188\n"
          ]
        },
        {
          "name": "stderr",
          "output_type": "stream",
          "text": [
            "\n"
          ]
        },
        {
          "data": {
            "image/png": "[encoded data removed]",
            "text/plain": [
              "<Figure size 640x480 with 1 Axes>"
            ]
          },
          "metadata": {},
          "output_type": "display_data"
        }
      ],
      "source": [
        "for LAM in LAMBDAS_TO_TRY:\n",
        "    print(f'bulding model for LAM = {LAM}')\n",
        "    model_image_enhanced_word2vec, reps_image_enhanced_word2vec, word_to_token_image_enhanced  = learn_reps_image_enhanced_word2vec(\n",
        "        train_data[\"caption\"], train_data[\"image_embedding\"], WINDOW_SIZE, rep_size=WORD_EMBEDDING_SIZE,\n",
        "        n_epochs=N_EPOCHS, n_batch=BATCH_SIZE, LAMBDA=LAM\n",
        "    )\n",
        "    models_enhanced[LAM] = model_image_enhanced_word2vec\n",
        "    reps_enhanced[LAM] = reps_image_enhanced_word2vec\n",
        "    word_to_token_enhanced[LAM] = word_to_token_image_enhanced"
      ]
    },
    {
      "cell_type": "markdown",
      "metadata": {
        "id": "0bSUytOvXiIC"
      },
      "source": [
        "## WIELD: New Image-Enhanced Model\n",
        "\n",
        "This model has two training objectives: predict the masked word, and predict a PCA-projected version of the image embedding associated with the caption. The only input to the model is the context window around the masked word."
      ]
    },
    {
      "cell_type": "code",
      "execution_count": null,
      "metadata": {
        "id": "HrmXl_kwXlm9"
      },
      "outputs": [],
      "source": [
        "class NewImageEnhancedWord2VecModel(nn.Module):\n",
        "    def __init__(self, vocab_size, embedding_size, image_pca_size, padding_idx):\n",
        "        super().__init__()\n",
        "        print(vocab_size, padding_idx)\n",
        "        self.padded_size = vocab_size + 1 # padding for constant length\n",
        "\n",
        "        # Embedding layer for context words\n",
        "        self.input_embedding = nn.Embedding(self.padded_size, embedding_size, padding_idx=padding_idx).to('cuda') # run on colab gpu\n",
        "\n",
        "        # Embedding layer for target words\n",
        "        # self.output_embedding = nn.Linear(embedding_size + image_embedding_size, vocab_size).to('cuda')\n",
        "\n",
        "        self.output_embedding = nn.Linear(embedding_size, vocab_size).to('cuda')\n",
        "        self.image_projection = nn.Linear(embedding_size, image_pca_size).to('cuda')\n",
        "\n",
        "    def forward(self, context):\n",
        "        # Embed context words\n",
        "        context_embeddings = self.input_embedding(context)  # Shape: n_batch x n_context x embedding_size\n",
        "\n",
        "        # Sum the embeddings along the context dimension\n",
        "        summed_context = context_embeddings.sum(dim=1)  # Shape: n_batch x embedding_size\n",
        "\n",
        "        predicted_scores = self.output_embedding(summed_context)\n",
        "        predicted_image_embedding = self.image_projection(summed_context)\n",
        "\n",
        "        return predicted_scores, predicted_image_embedding"
      ]
    },
    {
      "cell_type": "code",
      "execution_count": null,
      "metadata": {
        "id": "xv7emctHdHzV"
      },
      "outputs": [],
      "source": [
        "def custom_loss(output, target, gamma=10):\n",
        "  predicted_word_logits, predicted_image_embedding = output\n",
        "  actual_word, actual_image_embedding_pca = target\n",
        "\n",
        "  cross_entropy_loss = nn.CrossEntropyLoss()\n",
        "  mse_loss = nn.MSELoss()\n",
        "\n",
        "  # convert all to float\n",
        "  predicted_word_logits = predicted_word_logits.float()\n",
        "  actual_word = actual_word.long()\n",
        "  predicted_image_embedding = predicted_image_embedding.float()\n",
        "  actual_image_embedding_pca = actual_image_embedding_pca.float()\n",
        "\n",
        "  loss_word = cross_entropy_loss(predicted_word_logits, actual_word)\n",
        "  loss_img = mse_loss(predicted_image_embedding, actual_image_embedding_pca)\n",
        "\n",
        "  # print(f\"Cross entropy loss for predicted word: {loss_word}\")\n",
        "  # print(f\"MSE loss for predicted img: {loss_img}\")\n",
        "\n",
        "  return (1/(1+gamma)) * loss_word + (gamma/(1+gamma)) * loss_img"
      ]
    },
    {
      "cell_type": "code",
      "execution_count": null,
      "metadata": {
        "id": "cgTewuPtYk2f"
      },
      "outputs": [],
      "source": [
        "def learn_reps_new_image_enhanced_word2vec(captions, image_embeds, window_size, rep_size, image_pca_size, loss_gamma, n_epochs, n_batch):\n",
        "    # This method takes in a corpus of training sentences. It returns a matrix of\n",
        "    # word embeddings with the same structure as used in the previous section of\n",
        "    # the assignment. (You can extract this matrix from the parameters of the\n",
        "    # Word2VecModel.)\n",
        "    print(len(image_embeds))\n",
        "    tokenizer = Tokenizer()\n",
        "    tokenizer.fit(captions)\n",
        "    tokenized_captions = tokenizer.tokenize(captions)\n",
        "    ngrams = []\n",
        "    pad_idx = tokenizer.vocab_size\n",
        "\n",
        "    pca = PCA(n_components=image_pca_size)\n",
        "    image_embeds_pca = pca.fit_transform(np.array(image_embeds))\n",
        "\n",
        "    for i, cap in enumerate(tokenized_captions):\n",
        "      try:\n",
        "        ngrams_i = get_ngrams(cap, window_size, pad_idx, image_embedding=torch.tensor(image_embeds_pca[i, :]))\n",
        "        ngrams.extend(ngrams_i)\n",
        "      except:\n",
        "        continue\n",
        "\n",
        "    device = torch.device('cuda')  # run on colab gpu\n",
        "    model = NewImageEnhancedWord2VecModel(tokenizer.vocab_size, rep_size, image_pca_size, pad_idx).to(device)\n",
        "    opt = optim.Adam(model.parameters(), lr=0.001)\n",
        "\n",
        "    loader = torch_data.DataLoader(ngrams, batch_size=n_batch, shuffle=True)\n",
        "\n",
        "    losses = []  # Potentially useful for debugging (loss should go down!)\n",
        "    for epoch in tqdm(range(n_epochs)):\n",
        "        epoch_loss = 0\n",
        "\n",
        "        for context, image_embedding_pca, label in loader:\n",
        "            context=context.to(device)\n",
        "            image_embedding_pca = image_embedding_pca.to(device)\n",
        "            label = label.to(device)\n",
        "            output = model(context)\n",
        "            target = (label, image_embedding_pca)\n",
        "\n",
        "            loss = custom_loss(output, target, gamma=loss_gamma)\n",
        "            opt.zero_grad()\n",
        "            loss.backward()\n",
        "            opt.step()\n",
        "\n",
        "            epoch_loss += loss.item()\n",
        "        losses.append(epoch_loss)\n",
        "        print(f\"epoch : {epoch}, epoch_loss = {epoch_loss}\")\n",
        "\n",
        "    epochs = range(1, len(losses) + 1)\n",
        "\n",
        "    # Create a line plot of losses\n",
        "    plt.plot(epochs, losses, marker='o', linestyle='-')\n",
        "    plt.title(f'Loss (new model): n_samples={len(train_data)}')\n",
        "    plt.xlabel('Epochs or Iterations')\n",
        "    plt.ylabel('Loss')\n",
        "    plt.grid(True)\n",
        "\n",
        "    # Show the plot\n",
        "    plt.show()\n",
        "    embedding_matrix = model.input_embedding.weight.cpu().detach().numpy()[:tokenizer.vocab_size,:]\n",
        "\n",
        "    # Download the embeddings and tokenization for future use\n",
        "    current_time = datetime.now().strftime(\"%m-%d-%H:%M\")\n",
        "    full_file_path = os.path.join(DRIVE_BASE_PATH, f\"Result Embeddings/Image-Enhanced Model/new_w2v_enhanced_embeddings_{len(train_data)}_samples_{loss_gamma}_gamma_{WINDOW_SIZE}_windowsize_{current_time}\")\n",
        "    with open(full_file_path, 'wb') as file:\n",
        "      data = {\"embeddings\": embedding_matrix, \"word_to_token\": tokenizer.word_to_token}\n",
        "      pickle.dump(data, file)\n",
        "\n",
        "    return model, embedding_matrix, tokenizer.word_to_token"
      ]
    },
    {
      "cell_type": "code",
      "execution_count": null,
      "metadata": {
        "id": "BnL6f1YS8ka-"
      },
      "outputs": [],
      "source": [
        "# Second run to try with epoch 1 to get order of magnitude\n",
        "model_new_image_enhanced_word2vec, reps_new_image_enhanced_word2vec, word_to_token_new_image_enhanced  = learn_reps_new_image_enhanced_word2vec(\n",
        "        train_data[\"caption\"], train_data[\"image_embedding\"], WINDOW_SIZE, rep_size=WORD_EMBEDDING_SIZE, image_pca_size=IMAGE_PCA_SIZE,\n",
        "        loss_gamma=10, n_epochs=1, n_batch=BATCH_SIZE\n",
        "    )"
      ]
    },
    {
      "cell_type": "markdown",
      "metadata": {
        "id": "I_HxOKLZ-YR2"
      },
      "source": [
        "Based on this we should try 0 (baseline), 10, 50, 250"
      ]
    },
    {
      "cell_type": "code",
      "execution_count": null,
      "metadata": {
        "colab": {
          "base_uri": "https://localhost:8080/",
          "height": 854
        },
        "id": "y_q6DrBHfZTc",
        "outputId": "bba5b632-bde9-4b9d-80cc-f83c06d8a263"
      },
      "outputs": [
        {
          "name": "stdout",
          "output_type": "stream",
          "text": [
            "8130 8130\n"
          ]
        },
        {
          "name": "stderr",
          "output_type": "stream",
          "text": [
            "  5%|▌         | 1/20 [01:37<30:44, 97.06s/it]"
          ]
        },
        {
          "name": "stdout",
          "output_type": "stream",
          "text": [
            "epoch : 0, epoch_loss = 225873.87052083015\n"
          ]
        },
        {
          "name": "stderr",
          "output_type": "stream",
          "text": [
            "\r 10%|█         | 2/20 [03:13<28:59, 96.62s/it]"
          ]
        },
        {
          "name": "stdout",
          "output_type": "stream",
          "text": [
            "epoch : 1, epoch_loss = 201492.4703192711\n"
          ]
        },
        {
          "name": "stderr",
          "output_type": "stream",
          "text": [
            "\r 15%|█▌        | 3/20 [04:49<27:22, 96.61s/it]"
          ]
        },
        {
          "name": "stdout",
          "output_type": "stream",
          "text": [
            "epoch : 2, epoch_loss = 193235.64075517654\n"
          ]
        },
        {
          "name": "stderr",
          "output_type": "stream",
          "text": [
            "\r 20%|██        | 4/20 [06:26<25:45, 96.59s/it]"
          ]
        },
        {
          "name": "stdout",
          "output_type": "stream",
          "text": [
            "epoch : 3, epoch_loss = 186764.69103968143\n"
          ]
        },
        {
          "name": "stderr",
          "output_type": "stream",
          "text": [
            "\r 25%|██▌       | 5/20 [08:03<24:08, 96.60s/it]"
          ]
        },
        {
          "name": "stdout",
          "output_type": "stream",
          "text": [
            "epoch : 4, epoch_loss = 182152.2814553976\n"
          ]
        },
        {
          "name": "stderr",
          "output_type": "stream",
          "text": [
            "\r 30%|███       | 6/20 [09:39<22:30, 96.47s/it]"
          ]
        },
        {
          "name": "stdout",
          "output_type": "stream",
          "text": [
            "epoch : 5, epoch_loss = 179238.3387016058\n"
          ]
        },
        {
          "name": "stderr",
          "output_type": "stream",
          "text": [
            "\r 35%|███▌      | 7/20 [11:15<20:53, 96.45s/it]"
          ]
        },
        {
          "name": "stdout",
          "output_type": "stream",
          "text": [
            "epoch : 6, epoch_loss = 176914.23240470886\n"
          ]
        },
        {
          "name": "stderr",
          "output_type": "stream",
          "text": [
            "\r 40%|████      | 8/20 [12:52<19:18, 96.51s/it]"
          ]
        },
        {
          "name": "stdout",
          "output_type": "stream",
          "text": [
            "epoch : 7, epoch_loss = 175168.90187728405\n"
          ]
        },
        {
          "name": "stderr",
          "output_type": "stream",
          "text": [
            "\r 45%|████▌     | 9/20 [14:29<17:43, 96.68s/it]"
          ]
        },
        {
          "name": "stdout",
          "output_type": "stream",
          "text": [
            "epoch : 8, epoch_loss = 173698.52360153198\n"
          ]
        },
        {
          "name": "stderr",
          "output_type": "stream",
          "text": [
            "\r 50%|█████     | 10/20 [16:06<16:07, 96.77s/it]"
          ]
        },
        {
          "name": "stdout",
          "output_type": "stream",
          "text": [
            "epoch : 9, epoch_loss = 172461.7478145361\n"
          ]
        },
        {
          "name": "stderr",
          "output_type": "stream",
          "text": [
            "\r 55%|█████▌    | 11/20 [17:43<14:31, 96.79s/it]"
          ]
        },
        {
          "name": "stdout",
          "output_type": "stream",
          "text": [
            "epoch : 10, epoch_loss = 171464.09610319138\n"
          ]
        },
        {
          "name": "stderr",
          "output_type": "stream",
          "text": [
            "\r 60%|██████    | 12/20 [19:19<12:53, 96.68s/it]"
          ]
        },
        {
          "name": "stdout",
          "output_type": "stream",
          "text": [
            "epoch : 11, epoch_loss = 170541.32324779034\n"
          ]
        },
        {
          "name": "stderr",
          "output_type": "stream",
          "text": [
            "\r 65%|██████▌   | 13/20 [20:55<11:15, 96.51s/it]"
          ]
        },
        {
          "name": "stdout",
          "output_type": "stream",
          "text": [
            "epoch : 12, epoch_loss = 169869.0839960575\n"
          ]
        },
        {
          "name": "stderr",
          "output_type": "stream",
          "text": [
            "\r 70%|███████   | 14/20 [22:31<09:37, 96.27s/it]"
          ]
        },
        {
          "name": "stdout",
          "output_type": "stream",
          "text": [
            "epoch : 13, epoch_loss = 169242.3644579649\n"
          ]
        },
        {
          "name": "stderr",
          "output_type": "stream",
          "text": [
            "\r 75%|███████▌  | 15/20 [24:06<08:00, 96.01s/it]"
          ]
        },
        {
          "name": "stdout",
          "output_type": "stream",
          "text": [
            "epoch : 14, epoch_loss = 168628.49802291393\n"
          ]
        },
        {
          "name": "stderr",
          "output_type": "stream",
          "text": [
            "\r 80%|████████  | 16/20 [25:43<06:24, 96.19s/it]"
          ]
        },
        {
          "name": "stdout",
          "output_type": "stream",
          "text": [
            "epoch : 15, epoch_loss = 168153.5798267126\n"
          ]
        },
        {
          "name": "stderr",
          "output_type": "stream",
          "text": [
            "\r 85%|████████▌ | 17/20 [27:19<04:48, 96.26s/it]"
          ]
        },
        {
          "name": "stdout",
          "output_type": "stream",
          "text": [
            "epoch : 16, epoch_loss = 167744.02740836143\n"
          ]
        },
        {
          "name": "stderr",
          "output_type": "stream",
          "text": [
            "\r 90%|█████████ | 18/20 [28:56<03:12, 96.39s/it]"
          ]
        },
        {
          "name": "stdout",
          "output_type": "stream",
          "text": [
            "epoch : 17, epoch_loss = 167390.06971538067\n"
          ]
        },
        {
          "name": "stderr",
          "output_type": "stream",
          "text": [
            "\r 95%|█████████▌| 19/20 [30:33<01:36, 96.49s/it]"
          ]
        },
        {
          "name": "stdout",
          "output_type": "stream",
          "text": [
            "epoch : 18, epoch_loss = 167032.38281095028\n"
          ]
        },
        {
          "name": "stderr",
          "output_type": "stream",
          "text": [
            "100%|██████████| 20/20 [32:09<00:00, 96.49s/it]"
          ]
        },
        {
          "name": "stdout",
          "output_type": "stream",
          "text": [
            "epoch : 19, epoch_loss = 166730.93310546875\n"
          ]
        },
        {
          "name": "stderr",
          "output_type": "stream",
          "text": [
            "\n"
          ]
        },
        {
          "data": {
            "image/png": "[encoded data removed]",
            "text/plain": [
              "<Figure size 640x480 with 1 Axes>"
            ]
          },
          "metadata": {},
          "output_type": "display_data"
        }
      ],
      "source": [
        "model_new_image_enhanced_word2vec, reps_new_image_enhanced_word2vec, word_to_token_new_image_enhanced  = learn_reps_new_image_enhanced_word2vec(\n",
        "        train_data[\"caption\"], train_data[\"image_embedding\"], WINDOW_SIZE, rep_size=WORD_EMBEDDING_SIZE, image_pca_size=IMAGE_PCA_SIZE,\n",
        "        loss_gamma=0, n_epochs=N_EPOCHS, n_batch=BATCH_SIZE\n",
        ")"
      ]
    },
    {
      "cell_type": "code",
      "execution_count": null,
      "metadata": {
        "colab": {
          "base_uri": "https://localhost:8080/",
          "height": 846
        },
        "id": "No-VRmt_dMSN",
        "outputId": "9482baff-d12f-424c-af6e-d5078e152377"
      },
      "outputs": [
        {
          "name": "stdout",
          "output_type": "stream",
          "text": [
            "2003 2003\n"
          ]
        },
        {
          "name": "stderr",
          "output_type": "stream",
          "text": [
            "  5%|▌         | 1/20 [00:09<03:09,  9.97s/it]"
          ]
        },
        {
          "name": "stdout",
          "output_type": "stream",
          "text": [
            "epoch : 0, epoch_loss = 588.5425271689892\n"
          ]
        },
        {
          "name": "stderr",
          "output_type": "stream",
          "text": [
            "\r 10%|█         | 2/20 [00:18<02:47,  9.29s/it]"
          ]
        },
        {
          "name": "stdout",
          "output_type": "stream",
          "text": [
            "epoch : 1, epoch_loss = 483.04631746560335\n"
          ]
        },
        {
          "name": "stderr",
          "output_type": "stream",
          "text": [
            "\r 15%|█▌        | 3/20 [00:28<02:38,  9.33s/it]"
          ]
        },
        {
          "name": "stdout",
          "output_type": "stream",
          "text": [
            "epoch : 2, epoch_loss = 462.66422321647406\n"
          ]
        },
        {
          "name": "stderr",
          "output_type": "stream",
          "text": [
            "\r 20%|██        | 4/20 [00:37<02:28,  9.26s/it]"
          ]
        },
        {
          "name": "stdout",
          "output_type": "stream",
          "text": [
            "epoch : 3, epoch_loss = 450.169902831316\n"
          ]
        },
        {
          "name": "stderr",
          "output_type": "stream",
          "text": [
            "\r 25%|██▌       | 5/20 [00:46<02:18,  9.23s/it]"
          ]
        },
        {
          "name": "stdout",
          "output_type": "stream",
          "text": [
            "epoch : 4, epoch_loss = 441.39873430877924\n"
          ]
        },
        {
          "name": "stderr",
          "output_type": "stream",
          "text": [
            "\r 30%|███       | 6/20 [00:55<02:09,  9.24s/it]"
          ]
        },
        {
          "name": "stdout",
          "output_type": "stream",
          "text": [
            "epoch : 5, epoch_loss = 434.8124156370759\n"
          ]
        },
        {
          "name": "stderr",
          "output_type": "stream",
          "text": [
            "\r 35%|███▌      | 7/20 [01:04<01:57,  9.08s/it]"
          ]
        },
        {
          "name": "stdout",
          "output_type": "stream",
          "text": [
            "epoch : 6, epoch_loss = 429.33317594230175\n"
          ]
        },
        {
          "name": "stderr",
          "output_type": "stream",
          "text": [
            "\r 40%|████      | 8/20 [01:14<01:51,  9.29s/it]"
          ]
        },
        {
          "name": "stdout",
          "output_type": "stream",
          "text": [
            "epoch : 7, epoch_loss = 425.011383831501\n"
          ]
        },
        {
          "name": "stderr",
          "output_type": "stream",
          "text": [
            "\r 45%|████▌     | 9/20 [01:24<01:44,  9.51s/it]"
          ]
        },
        {
          "name": "stdout",
          "output_type": "stream",
          "text": [
            "epoch : 8, epoch_loss = 421.66560381650925\n"
          ]
        },
        {
          "name": "stderr",
          "output_type": "stream",
          "text": [
            "\r 50%|█████     | 10/20 [01:32<01:32,  9.24s/it]"
          ]
        },
        {
          "name": "stdout",
          "output_type": "stream",
          "text": [
            "epoch : 9, epoch_loss = 418.78194569051266\n"
          ]
        },
        {
          "name": "stderr",
          "output_type": "stream",
          "text": [
            "\r 55%|█████▌    | 11/20 [01:42<01:23,  9.25s/it]"
          ]
        },
        {
          "name": "stdout",
          "output_type": "stream",
          "text": [
            "epoch : 10, epoch_loss = 416.51364212855697\n"
          ]
        },
        {
          "name": "stderr",
          "output_type": "stream",
          "text": [
            "\r 60%|██████    | 12/20 [01:51<01:14,  9.31s/it]"
          ]
        },
        {
          "name": "stdout",
          "output_type": "stream",
          "text": [
            "epoch : 11, epoch_loss = 414.66018545255065\n"
          ]
        },
        {
          "name": "stderr",
          "output_type": "stream",
          "text": [
            "\r 65%|██████▌   | 13/20 [02:00<01:04,  9.15s/it]"
          ]
        },
        {
          "name": "stdout",
          "output_type": "stream",
          "text": [
            "epoch : 12, epoch_loss = 413.250048533082\n"
          ]
        },
        {
          "name": "stderr",
          "output_type": "stream",
          "text": [
            "\r 70%|███████   | 14/20 [02:09<00:55,  9.24s/it]"
          ]
        },
        {
          "name": "stdout",
          "output_type": "stream",
          "text": [
            "epoch : 13, epoch_loss = 412.1087972819805\n"
          ]
        },
        {
          "name": "stderr",
          "output_type": "stream",
          "text": [
            "\r 75%|███████▌  | 15/20 [02:18<00:46,  9.20s/it]"
          ]
        },
        {
          "name": "stdout",
          "output_type": "stream",
          "text": [
            "epoch : 14, epoch_loss = 410.9355371110141\n"
          ]
        },
        {
          "name": "stderr",
          "output_type": "stream",
          "text": [
            "\r 80%|████████  | 16/20 [02:28<00:36,  9.17s/it]"
          ]
        },
        {
          "name": "stdout",
          "output_type": "stream",
          "text": [
            "epoch : 15, epoch_loss = 410.2275638692081\n"
          ]
        },
        {
          "name": "stderr",
          "output_type": "stream",
          "text": [
            "\r 85%|████████▌ | 17/20 [02:38<00:28,  9.53s/it]"
          ]
        },
        {
          "name": "stdout",
          "output_type": "stream",
          "text": [
            "epoch : 16, epoch_loss = 409.5985742993653\n"
          ]
        },
        {
          "name": "stderr",
          "output_type": "stream",
          "text": [
            "\r 90%|█████████ | 18/20 [02:47<00:18,  9.40s/it]"
          ]
        },
        {
          "name": "stdout",
          "output_type": "stream",
          "text": [
            "epoch : 17, epoch_loss = 409.067695081234\n"
          ]
        },
        {
          "name": "stderr",
          "output_type": "stream",
          "text": [
            "\r 95%|█████████▌| 19/20 [02:56<00:09,  9.32s/it]"
          ]
        },
        {
          "name": "stdout",
          "output_type": "stream",
          "text": [
            "epoch : 18, epoch_loss = 408.3832482881844\n"
          ]
        },
        {
          "name": "stderr",
          "output_type": "stream",
          "text": [
            "100%|██████████| 20/20 [03:06<00:00,  9.31s/it]"
          ]
        },
        {
          "name": "stdout",
          "output_type": "stream",
          "text": [
            "epoch : 19, epoch_loss = 408.1870868355036\n"
          ]
        },
        {
          "name": "stderr",
          "output_type": "stream",
          "text": [
            "\n"
          ]
        },
        {
          "data": {
            "image/png": "[encoded data removed]",
            "text/plain": [
              "<Figure size 640x480 with 1 Axes>"
            ]
          },
          "metadata": {},
          "output_type": "display_data"
        }
      ],
      "source": [
        "model_new_image_enhanced_word2vec, reps_new_image_enhanced_word2vec, word_to_token_new_image_enhanced  = learn_reps_new_image_enhanced_word2vec(\n",
        "        train_data[\"caption\"], train_data[\"image_embedding\"], WINDOW_SIZE, rep_size=WORD_EMBEDDING_SIZE, image_pca_size=IMAGE_PCA_SIZE,\n",
        "        loss_gamma=10000, n_epochs=N_EPOCHS, n_batch=BATCH_SIZE\n",
        "    )"
      ]
    },
    {
      "cell_type": "code",
      "execution_count": null,
      "metadata": {
        "id": "Kwuyo1umD9u2"
      },
      "outputs": [],
      "source": [
        "model_new_image_enhanced_word2vec, reps_new_image_enhanced_word2vec, word_to_token_new_image_enhanced  = learn_reps_new_image_enhanced_word2vec(\n",
        "        train_data[\"caption\"], train_data[\"image_embedding\"], WINDOW_SIZE, rep_size=WORD_EMBEDDING_SIZE, image_pca_size=IMAGE_PCA_SIZE,\n",
        "        loss_gamma=10, n_epochs=N_EPOCHS, n_batch=BATCH_SIZE\n",
        ")"
      ]
    },
    {
      "cell_type": "code",
      "execution_count": null,
      "metadata": {
        "colab": {
          "base_uri": "https://localhost:8080/",
          "height": 854
        },
        "id": "x-0BKQ2DQzPD",
        "outputId": "725032fc-ba80-438d-ab8d-cd951d413497"
      },
      "outputs": [
        {
          "name": "stdout",
          "output_type": "stream",
          "text": [
            "8130 8130\n"
          ]
        },
        {
          "name": "stderr",
          "output_type": "stream",
          "text": [
            "  5%|▌         | 1/20 [01:35<30:18, 95.70s/it]"
          ]
        },
        {
          "name": "stdout",
          "output_type": "stream",
          "text": [
            "epoch : 0, epoch_loss = 9041.005903586745\n"
          ]
        },
        {
          "name": "stderr",
          "output_type": "stream",
          "text": [
            "\r 10%|█         | 2/20 [03:11<28:45, 95.83s/it]"
          ]
        },
        {
          "name": "stdout",
          "output_type": "stream",
          "text": [
            "epoch : 1, epoch_loss = 8154.632699981332\n"
          ]
        },
        {
          "name": "stderr",
          "output_type": "stream",
          "text": [
            "\r 15%|█▌        | 3/20 [04:47<27:07, 95.72s/it]"
          ]
        },
        {
          "name": "stdout",
          "output_type": "stream",
          "text": [
            "epoch : 2, epoch_loss = 7881.47587479651\n"
          ]
        },
        {
          "name": "stderr",
          "output_type": "stream",
          "text": [
            "\r 20%|██        | 4/20 [06:22<25:29, 95.62s/it]"
          ]
        },
        {
          "name": "stdout",
          "output_type": "stream",
          "text": [
            "epoch : 3, epoch_loss = 7694.418618693948\n"
          ]
        },
        {
          "name": "stderr",
          "output_type": "stream",
          "text": [
            "\r 25%|██▌       | 5/20 [07:58<23:54, 95.63s/it]"
          ]
        },
        {
          "name": "stdout",
          "output_type": "stream",
          "text": [
            "epoch : 4, epoch_loss = 7569.58171851933\n"
          ]
        },
        {
          "name": "stderr",
          "output_type": "stream",
          "text": [
            "\r 30%|███       | 6/20 [09:33<22:16, 95.48s/it]"
          ]
        },
        {
          "name": "stdout",
          "output_type": "stream",
          "text": [
            "epoch : 5, epoch_loss = 7483.858659423888\n"
          ]
        },
        {
          "name": "stderr",
          "output_type": "stream",
          "text": [
            "\r 35%|███▌      | 7/20 [11:08<20:40, 95.40s/it]"
          ]
        },
        {
          "name": "stdout",
          "output_type": "stream",
          "text": [
            "epoch : 6, epoch_loss = 7423.637261107564\n"
          ]
        },
        {
          "name": "stderr",
          "output_type": "stream",
          "text": [
            "\r 40%|████      | 8/20 [12:43<19:01, 95.17s/it]"
          ]
        },
        {
          "name": "stdout",
          "output_type": "stream",
          "text": [
            "epoch : 7, epoch_loss = 7378.7018038108945\n"
          ]
        },
        {
          "name": "stderr",
          "output_type": "stream",
          "text": [
            "\r 45%|████▌     | 9/20 [14:18<17:26, 95.13s/it]"
          ]
        },
        {
          "name": "stdout",
          "output_type": "stream",
          "text": [
            "epoch : 8, epoch_loss = 7344.063286721706\n"
          ]
        },
        {
          "name": "stderr",
          "output_type": "stream",
          "text": [
            "\r 50%|█████     | 10/20 [15:53<15:52, 95.23s/it]"
          ]
        },
        {
          "name": "stdout",
          "output_type": "stream",
          "text": [
            "epoch : 9, epoch_loss = 7315.528618790209\n"
          ]
        },
        {
          "name": "stderr",
          "output_type": "stream",
          "text": [
            "\r 55%|█████▌    | 11/20 [17:29<14:17, 95.23s/it]"
          ]
        },
        {
          "name": "stdout",
          "output_type": "stream",
          "text": [
            "epoch : 10, epoch_loss = 7292.854124099016\n"
          ]
        },
        {
          "name": "stderr",
          "output_type": "stream",
          "text": [
            "\r 60%|██████    | 12/20 [19:04<12:42, 95.31s/it]"
          ]
        },
        {
          "name": "stdout",
          "output_type": "stream",
          "text": [
            "epoch : 11, epoch_loss = 7275.579647354782\n"
          ]
        },
        {
          "name": "stderr",
          "output_type": "stream",
          "text": [
            "\r 65%|██████▌   | 13/20 [20:40<11:07, 95.43s/it]"
          ]
        },
        {
          "name": "stdout",
          "output_type": "stream",
          "text": [
            "epoch : 12, epoch_loss = 7259.952635489404\n"
          ]
        },
        {
          "name": "stderr",
          "output_type": "stream",
          "text": [
            "\r 70%|███████   | 14/20 [22:15<09:32, 95.40s/it]"
          ]
        },
        {
          "name": "stdout",
          "output_type": "stream",
          "text": [
            "epoch : 13, epoch_loss = 7248.076304063201\n"
          ]
        },
        {
          "name": "stderr",
          "output_type": "stream",
          "text": [
            "\r 75%|███████▌  | 15/20 [23:51<07:57, 95.48s/it]"
          ]
        },
        {
          "name": "stdout",
          "output_type": "stream",
          "text": [
            "epoch : 14, epoch_loss = 7237.150878451765\n"
          ]
        },
        {
          "name": "stderr",
          "output_type": "stream",
          "text": [
            "\r 80%|████████  | 16/20 [25:26<06:22, 95.53s/it]"
          ]
        },
        {
          "name": "stdout",
          "output_type": "stream",
          "text": [
            "epoch : 15, epoch_loss = 7227.477270156145\n"
          ]
        },
        {
          "name": "stderr",
          "output_type": "stream",
          "text": [
            "\r 85%|████████▌ | 17/20 [27:02<04:46, 95.50s/it]"
          ]
        },
        {
          "name": "stdout",
          "output_type": "stream",
          "text": [
            "epoch : 16, epoch_loss = 7219.650323227048\n"
          ]
        },
        {
          "name": "stderr",
          "output_type": "stream",
          "text": [
            "\r 90%|█████████ | 18/20 [28:37<03:10, 95.39s/it]"
          ]
        },
        {
          "name": "stdout",
          "output_type": "stream",
          "text": [
            "epoch : 17, epoch_loss = 7213.167070902884\n"
          ]
        },
        {
          "name": "stderr",
          "output_type": "stream",
          "text": [
            "\r 95%|█████████▌| 19/20 [30:12<01:35, 95.23s/it]"
          ]
        },
        {
          "name": "stdout",
          "output_type": "stream",
          "text": [
            "epoch : 18, epoch_loss = 7206.263150624931\n"
          ]
        },
        {
          "name": "stderr",
          "output_type": "stream",
          "text": [
            "100%|██████████| 20/20 [31:48<00:00, 95.42s/it]"
          ]
        },
        {
          "name": "stdout",
          "output_type": "stream",
          "text": [
            "epoch : 19, epoch_loss = 7201.725168928504\n"
          ]
        },
        {
          "name": "stderr",
          "output_type": "stream",
          "text": [
            "\n"
          ]
        },
        {
          "data": {
            "image/png": "[encoded data removed]",
            "text/plain": [
              "<Figure size 640x480 with 1 Axes>"
            ]
          },
          "metadata": {},
          "output_type": "display_data"
        }
      ],
      "source": [
        "model_new_image_enhanced_word2vec, reps_new_image_enhanced_word2vec, word_to_token_new_image_enhanced  = learn_reps_new_image_enhanced_word2vec(\n",
        "        train_data[\"caption\"], train_data[\"image_embedding\"], WINDOW_SIZE, rep_size=WORD_EMBEDDING_SIZE, image_pca_size=IMAGE_PCA_SIZE,\n",
        "        loss_gamma=50, n_epochs=N_EPOCHS, n_batch=BATCH_SIZE\n",
        ")"
      ]
    },
    {
      "cell_type": "code",
      "execution_count": null,
      "metadata": {
        "id": "Yx0Zu9akEEQ2"
      },
      "outputs": [],
      "source": [
        "model_new_image_enhanced_word2vec, reps_new_image_enhanced_word2vec, word_to_token_new_image_enhanced  = learn_reps_new_image_enhanced_word2vec(\n",
        "        train_data[\"caption\"], train_data[\"image_embedding\"], WINDOW_SIZE, rep_size=WORD_EMBEDDING_SIZE, image_pca_size=IMAGE_PCA_SIZE,\n",
        "        loss_gamma=250, n_epochs=N_EPOCHS, n_batch=BATCH_SIZE\n",
        ")"
      ]
    },
    {
      "cell_type": "code",
      "execution_count": null,
      "metadata": {
        "colab": {
          "base_uri": "https://localhost:8080/"
        },
        "id": "i24aMO2D1hdB",
        "outputId": "f5517eda-e187-4216-984c-c4cdd4db16da"
      },
      "outputs": [
        {
          "data": {
            "text/plain": [
              "81980"
            ]
          },
          "execution_count": 31,
          "metadata": {},
          "output_type": "execute_result"
        }
      ],
      "source": [
        "len(train_data)"
      ]
    },
    {
      "cell_type": "code",
      "execution_count": null,
      "metadata": {
        "colab": {
          "base_uri": "https://localhost:8080/",
          "height": 871
        },
        "id": "rac6mR6s0CEJ",
        "outputId": "684a2870-231a-45f2-c63a-bfe2831ca972"
      },
      "outputs": [
        {
          "name": "stdout",
          "output_type": "stream",
          "text": [
            "81980\n",
            "8130 8130\n"
          ]
        },
        {
          "name": "stderr",
          "output_type": "stream",
          "text": [
            "  5%|▌         | 1/20 [01:33<29:42, 93.82s/it]"
          ]
        },
        {
          "name": "stdout",
          "output_type": "stream",
          "text": [
            "epoch : 0, epoch_loss = 4610.286973208189\n"
          ]
        },
        {
          "name": "stderr",
          "output_type": "stream",
          "text": [
            "\r 10%|█         | 2/20 [03:06<27:52, 92.94s/it]"
          ]
        },
        {
          "name": "stdout",
          "output_type": "stream",
          "text": [
            "epoch : 1, epoch_loss = 4169.394227471203\n"
          ]
        },
        {
          "name": "stderr",
          "output_type": "stream",
          "text": [
            "\r 15%|█▌        | 3/20 [04:37<26:11, 92.41s/it]"
          ]
        },
        {
          "name": "stdout",
          "output_type": "stream",
          "text": [
            "epoch : 2, epoch_loss = 4065.345493108034\n"
          ]
        },
        {
          "name": "stderr",
          "output_type": "stream",
          "text": [
            "\r 20%|██        | 4/20 [06:09<24:33, 92.08s/it]"
          ]
        },
        {
          "name": "stdout",
          "output_type": "stream",
          "text": [
            "epoch : 3, epoch_loss = 4017.3501091487706\n"
          ]
        },
        {
          "name": "stderr",
          "output_type": "stream",
          "text": [
            "\r 25%|██▌       | 5/20 [07:41<23:02, 92.19s/it]"
          ]
        },
        {
          "name": "stdout",
          "output_type": "stream",
          "text": [
            "epoch : 4, epoch_loss = 3991.7750182673335\n"
          ]
        },
        {
          "name": "stderr",
          "output_type": "stream",
          "text": [
            "\r 30%|███       | 6/20 [09:13<21:30, 92.15s/it]"
          ]
        },
        {
          "name": "stdout",
          "output_type": "stream",
          "text": [
            "epoch : 5, epoch_loss = 3977.20877129212\n"
          ]
        },
        {
          "name": "stderr",
          "output_type": "stream",
          "text": [
            "\r 35%|███▌      | 7/20 [10:45<19:56, 92.00s/it]"
          ]
        },
        {
          "name": "stdout",
          "output_type": "stream",
          "text": [
            "epoch : 6, epoch_loss = 3968.279573585838\n"
          ]
        },
        {
          "name": "stderr",
          "output_type": "stream",
          "text": [
            "\r 40%|████      | 8/20 [12:16<18:20, 91.72s/it]"
          ]
        },
        {
          "name": "stdout",
          "output_type": "stream",
          "text": [
            "epoch : 7, epoch_loss = 3963.047956239432\n"
          ]
        },
        {
          "name": "stderr",
          "output_type": "stream",
          "text": [
            "\r 45%|████▌     | 9/20 [13:48<16:49, 91.77s/it]"
          ]
        },
        {
          "name": "stdout",
          "output_type": "stream",
          "text": [
            "epoch : 8, epoch_loss = 3958.636987324804\n"
          ]
        },
        {
          "name": "stderr",
          "output_type": "stream",
          "text": [
            "\r 50%|█████     | 10/20 [15:20<15:16, 91.68s/it]"
          ]
        },
        {
          "name": "stdout",
          "output_type": "stream",
          "text": [
            "epoch : 9, epoch_loss = 3956.2463997863233\n"
          ]
        },
        {
          "name": "stderr",
          "output_type": "stream",
          "text": [
            "\r 55%|█████▌    | 11/20 [16:51<13:44, 91.62s/it]"
          ]
        },
        {
          "name": "stdout",
          "output_type": "stream",
          "text": [
            "epoch : 10, epoch_loss = 3953.7964269556105\n"
          ]
        },
        {
          "name": "stderr",
          "output_type": "stream",
          "text": [
            "\r 60%|██████    | 12/20 [18:23<12:13, 91.63s/it]"
          ]
        },
        {
          "name": "stdout",
          "output_type": "stream",
          "text": [
            "epoch : 11, epoch_loss = 3951.9689794927835\n"
          ]
        },
        {
          "name": "stderr",
          "output_type": "stream",
          "text": [
            "\r 65%|██████▌   | 13/20 [19:55<10:41, 91.68s/it]"
          ]
        },
        {
          "name": "stdout",
          "output_type": "stream",
          "text": [
            "epoch : 12, epoch_loss = 3950.4339240193367\n"
          ]
        },
        {
          "name": "stderr",
          "output_type": "stream",
          "text": [
            "\r 70%|███████   | 14/20 [21:27<09:11, 91.84s/it]"
          ]
        },
        {
          "name": "stdout",
          "output_type": "stream",
          "text": [
            "epoch : 13, epoch_loss = 3949.3576947934926\n"
          ]
        },
        {
          "name": "stderr",
          "output_type": "stream",
          "text": [
            "\r 75%|███████▌  | 15/20 [22:59<07:40, 92.01s/it]"
          ]
        },
        {
          "name": "stdout",
          "output_type": "stream",
          "text": [
            "epoch : 14, epoch_loss = 3947.7237684465945\n"
          ]
        },
        {
          "name": "stderr",
          "output_type": "stream",
          "text": [
            "\r 80%|████████  | 16/20 [24:32<06:09, 92.27s/it]"
          ]
        },
        {
          "name": "stdout",
          "output_type": "stream",
          "text": [
            "epoch : 15, epoch_loss = 3946.850798651576\n"
          ]
        },
        {
          "name": "stderr",
          "output_type": "stream",
          "text": [
            "\r 85%|████████▌ | 17/20 [26:06<04:38, 92.84s/it]"
          ]
        },
        {
          "name": "stdout",
          "output_type": "stream",
          "text": [
            "epoch : 16, epoch_loss = 3946.03961231187\n"
          ]
        },
        {
          "name": "stderr",
          "output_type": "stream",
          "text": [
            "\r 90%|█████████ | 18/20 [27:41<03:06, 93.46s/it]"
          ]
        },
        {
          "name": "stdout",
          "output_type": "stream",
          "text": [
            "epoch : 17, epoch_loss = 3944.8326934613287\n"
          ]
        },
        {
          "name": "stderr",
          "output_type": "stream",
          "text": [
            "\r 95%|█████████▌| 19/20 [29:16<01:33, 93.74s/it]"
          ]
        },
        {
          "name": "stdout",
          "output_type": "stream",
          "text": [
            "epoch : 18, epoch_loss = 3944.598565682769\n"
          ]
        },
        {
          "name": "stderr",
          "output_type": "stream",
          "text": [
            "100%|██████████| 20/20 [30:49<00:00, 92.46s/it]"
          ]
        },
        {
          "name": "stdout",
          "output_type": "stream",
          "text": [
            "epoch : 19, epoch_loss = 3944.090611677617\n"
          ]
        },
        {
          "name": "stderr",
          "output_type": "stream",
          "text": [
            "\n"
          ]
        },
        {
          "data": {
            "image/png": "[encoded data removed]",
            "text/plain": [
              "<Figure size 640x480 with 1 Axes>"
            ]
          },
          "metadata": {},
          "output_type": "display_data"
        }
      ],
      "source": [
        "# 10k gamma w/ 100k samples\n",
        "model_new_image_enhanced_word2vec, reps_new_image_enhanced_word2vec, word_to_token_new_image_enhanced  = learn_reps_new_image_enhanced_word2vec(\n",
        "        train_data[\"caption\"], train_data[\"image_embedding\"], WINDOW_SIZE, rep_size=WORD_EMBEDDING_SIZE, image_pca_size=IMAGE_PCA_SIZE,\n",
        "        loss_gamma=10000, n_epochs=N_EPOCHS, n_batch=BATCH_SIZE\n",
        ")"
      ]
    },
    {
      "cell_type": "code",
      "execution_count": null,
      "metadata": {
        "colab": {
          "background_save": true,
          "base_uri": "https://localhost:8080/"
        },
        "id": "jF4dajFnNjBu",
        "outputId": "1483ed7b-b2c4-4395-f544-91bb5a4f7238"
      },
      "outputs": [
        {
          "name": "stdout",
          "output_type": "stream",
          "text": [
            "81980\n",
            "8130 8130\n"
          ]
        },
        {
          "name": "stderr",
          "output_type": "stream",
          "text": [
            "  5%|▌         | 1/20 [01:30<28:42, 90.66s/it]"
          ]
        },
        {
          "name": "stdout",
          "output_type": "stream",
          "text": [
            "epoch : 0, epoch_loss = 26661.062573581934\n"
          ]
        },
        {
          "name": "stderr",
          "output_type": "stream",
          "text": [
            "\r 10%|█         | 2/20 [03:00<27:00, 90.04s/it]"
          ]
        },
        {
          "name": "stdout",
          "output_type": "stream",
          "text": [
            "epoch : 1, epoch_loss = 23495.661008119583\n"
          ]
        },
        {
          "name": "stderr",
          "output_type": "stream",
          "text": [
            "\r 15%|█▌        | 3/20 [04:29<25:24, 89.65s/it]"
          ]
        },
        {
          "name": "stdout",
          "output_type": "stream",
          "text": [
            "epoch : 2, epoch_loss = 22271.62568885088\n"
          ]
        },
        {
          "name": "stderr",
          "output_type": "stream",
          "text": [
            "\r 20%|██        | 4/20 [05:58<23:47, 89.22s/it]"
          ]
        },
        {
          "name": "stdout",
          "output_type": "stream",
          "text": [
            "epoch : 3, epoch_loss = 21365.97388613224\n"
          ]
        },
        {
          "name": "stderr",
          "output_type": "stream",
          "text": [
            "\r 25%|██▌       | 5/20 [07:26<22:16, 89.11s/it]"
          ]
        },
        {
          "name": "stdout",
          "output_type": "stream",
          "text": [
            "epoch : 4, epoch_loss = 20729.64339146018\n"
          ]
        },
        {
          "name": "stderr",
          "output_type": "stream",
          "text": [
            "\r 30%|███       | 6/20 [08:55<20:45, 89.00s/it]"
          ]
        },
        {
          "name": "stdout",
          "output_type": "stream",
          "text": [
            "epoch : 5, epoch_loss = 20235.645224034786\n"
          ]
        },
        {
          "name": "stderr",
          "output_type": "stream",
          "text": [
            "\r 35%|███▌      | 7/20 [10:24<19:16, 88.98s/it]"
          ]
        },
        {
          "name": "stdout",
          "output_type": "stream",
          "text": [
            "epoch : 6, epoch_loss = 19880.007339179516\n"
          ]
        },
        {
          "name": "stderr",
          "output_type": "stream",
          "text": [
            "\r 40%|████      | 8/20 [11:53<17:46, 88.92s/it]"
          ]
        },
        {
          "name": "stdout",
          "output_type": "stream",
          "text": [
            "epoch : 7, epoch_loss = 19587.520506441593\n"
          ]
        },
        {
          "name": "stderr",
          "output_type": "stream",
          "text": [
            "\r 45%|████▌     | 9/20 [13:22<16:17, 88.84s/it]"
          ]
        },
        {
          "name": "stdout",
          "output_type": "stream",
          "text": [
            "epoch : 8, epoch_loss = 19364.978897482157\n"
          ]
        },
        {
          "name": "stderr",
          "output_type": "stream",
          "text": [
            "\r 50%|█████     | 10/20 [14:51<14:49, 88.96s/it]"
          ]
        },
        {
          "name": "stdout",
          "output_type": "stream",
          "text": [
            "epoch : 9, epoch_loss = 19189.426797628403\n"
          ]
        },
        {
          "name": "stderr",
          "output_type": "stream",
          "text": [
            "\r 55%|█████▌    | 11/20 [16:20<13:21, 89.01s/it]"
          ]
        },
        {
          "name": "stdout",
          "output_type": "stream",
          "text": [
            "epoch : 10, epoch_loss = 19052.535157725215\n"
          ]
        },
        {
          "name": "stderr",
          "output_type": "stream",
          "text": [
            "\r 60%|██████    | 12/20 [17:49<11:51, 88.97s/it]"
          ]
        },
        {
          "name": "stdout",
          "output_type": "stream",
          "text": [
            "epoch : 11, epoch_loss = 18935.597344905138\n"
          ]
        },
        {
          "name": "stderr",
          "output_type": "stream",
          "text": [
            "\r 65%|██████▌   | 13/20 [19:19<10:26, 89.48s/it]"
          ]
        },
        {
          "name": "stdout",
          "output_type": "stream",
          "text": [
            "epoch : 12, epoch_loss = 18837.917891398072\n"
          ]
        },
        {
          "name": "stderr",
          "output_type": "stream",
          "text": [
            "\r 70%|███████   | 14/20 [20:49<08:57, 89.63s/it]"
          ]
        },
        {
          "name": "stdout",
          "output_type": "stream",
          "text": [
            "epoch : 13, epoch_loss = 18756.783570870757\n"
          ]
        },
        {
          "name": "stderr",
          "output_type": "stream",
          "text": [
            "\r 75%|███████▌  | 15/20 [22:19<07:28, 89.72s/it]"
          ]
        },
        {
          "name": "stdout",
          "output_type": "stream",
          "text": [
            "epoch : 14, epoch_loss = 18691.23937357962\n"
          ]
        },
        {
          "name": "stderr",
          "output_type": "stream",
          "text": [
            "\r 80%|████████  | 16/20 [23:50<05:59, 89.85s/it]"
          ]
        },
        {
          "name": "stdout",
          "output_type": "stream",
          "text": [
            "epoch : 15, epoch_loss = 18630.412457883358\n"
          ]
        },
        {
          "name": "stderr",
          "output_type": "stream",
          "text": [
            "\r 85%|████████▌ | 17/20 [25:19<04:28, 89.59s/it]"
          ]
        },
        {
          "name": "stdout",
          "output_type": "stream",
          "text": [
            "epoch : 16, epoch_loss = 18586.28976456821\n"
          ]
        },
        {
          "name": "stderr",
          "output_type": "stream",
          "text": [
            "\r 90%|█████████ | 18/20 [26:47<02:58, 89.36s/it]"
          ]
        },
        {
          "name": "stdout",
          "output_type": "stream",
          "text": [
            "epoch : 17, epoch_loss = 18541.73310868442\n"
          ]
        },
        {
          "name": "stderr",
          "output_type": "stream",
          "text": [
            "\r 95%|█████████▌| 19/20 [28:17<01:29, 89.41s/it]"
          ]
        },
        {
          "name": "stdout",
          "output_type": "stream",
          "text": [
            "epoch : 18, epoch_loss = 18503.109620422125\n"
          ]
        },
        {
          "name": "stderr",
          "output_type": "stream",
          "text": [
            "100%|██████████| 20/20 [29:46<00:00, 89.34s/it]"
          ]
        },
        {
          "name": "stdout",
          "output_type": "stream",
          "text": [
            "epoch : 19, epoch_loss = 18482.19366541505\n"
          ]
        },
        {
          "name": "stderr",
          "output_type": "stream",
          "text": [
            "\n"
          ]
        },
        {
          "data": {
            "image/png": "[encoded data removed]",
            "text/plain": [
              "<Figure size 640x480 with 1 Axes>"
            ]
          },
          "metadata": {},
          "output_type": "display_data"
        }
      ],
      "source": [
        "# 10 gamma w/ 100k samples, 10 window size\n",
        "model_new_image_enhanced_word2vec, reps_new_image_enhanced_word2vec, word_to_token_new_image_enhanced  = learn_reps_new_image_enhanced_word2vec(\n",
        "        train_data[\"caption\"], train_data[\"image_embedding\"], WINDOW_SIZE, rep_size=WORD_EMBEDDING_SIZE, image_pca_size=IMAGE_PCA_SIZE,\n",
        "        loss_gamma=10, n_epochs=N_EPOCHS, n_batch=BATCH_SIZE\n",
        ")"
      ]
    },
    {
      "cell_type": "code",
      "execution_count": null,
      "metadata": {
        "colab": {
          "background_save": true,
          "base_uri": "https://localhost:8080/"
        },
        "id": "NSQRWIUEY1Jl",
        "outputId": "b713608e-c663-4fb3-99e9-485e5a650b67"
      },
      "outputs": [
        {
          "name": "stdout",
          "output_type": "stream",
          "text": [
            "81980\n",
            "8130 8130\n"
          ]
        },
        {
          "name": "stderr",
          "output_type": "stream",
          "text": [
            "  5%|▌         | 1/20 [01:32<29:15, 92.38s/it]"
          ]
        },
        {
          "name": "stdout",
          "output_type": "stream",
          "text": [
            "epoch : 0, epoch_loss = 247941.0875787735\n"
          ]
        },
        {
          "name": "stderr",
          "output_type": "stream",
          "text": [
            "\r 10%|█         | 2/20 [03:05<27:47, 92.67s/it]"
          ]
        },
        {
          "name": "stdout",
          "output_type": "stream",
          "text": [
            "epoch : 1, epoch_loss = 221110.13840651512\n"
          ]
        },
        {
          "name": "stderr",
          "output_type": "stream",
          "text": [
            "\r 15%|█▌        | 3/20 [04:37<26:14, 92.61s/it]"
          ]
        },
        {
          "name": "stdout",
          "output_type": "stream",
          "text": [
            "epoch : 2, epoch_loss = 209560.65732884407\n"
          ]
        },
        {
          "name": "stderr",
          "output_type": "stream",
          "text": [
            "\r 20%|██        | 4/20 [06:10<24:41, 92.62s/it]"
          ]
        },
        {
          "name": "stdout",
          "output_type": "stream",
          "text": [
            "epoch : 3, epoch_loss = 200628.72926831245\n"
          ]
        },
        {
          "name": "stderr",
          "output_type": "stream",
          "text": [
            "\r 25%|██▌       | 5/20 [07:42<23:05, 92.39s/it]"
          ]
        },
        {
          "name": "stdout",
          "output_type": "stream",
          "text": [
            "epoch : 4, epoch_loss = 193886.4542143345\n"
          ]
        },
        {
          "name": "stderr",
          "output_type": "stream",
          "text": [
            "\r 30%|███       | 6/20 [09:14<21:33, 92.43s/it]"
          ]
        },
        {
          "name": "stdout",
          "output_type": "stream",
          "text": [
            "epoch : 5, epoch_loss = 188825.05400967598\n"
          ]
        },
        {
          "name": "stderr",
          "output_type": "stream",
          "text": [
            "\r 35%|███▌      | 7/20 [10:47<20:02, 92.53s/it]"
          ]
        },
        {
          "name": "stdout",
          "output_type": "stream",
          "text": [
            "epoch : 6, epoch_loss = 184759.74679160118\n"
          ]
        },
        {
          "name": "stderr",
          "output_type": "stream",
          "text": [
            "\r 40%|████      | 8/20 [12:20<18:33, 92.77s/it]"
          ]
        },
        {
          "name": "stdout",
          "output_type": "stream",
          "text": [
            "epoch : 7, epoch_loss = 181638.83467662334\n"
          ]
        },
        {
          "name": "stderr",
          "output_type": "stream",
          "text": [
            "\r 45%|████▌     | 9/20 [13:53<17:00, 92.79s/it]"
          ]
        },
        {
          "name": "stdout",
          "output_type": "stream",
          "text": [
            "epoch : 8, epoch_loss = 178919.23777198792\n"
          ]
        },
        {
          "name": "stderr",
          "output_type": "stream",
          "text": [
            "\r 50%|█████     | 10/20 [15:26<15:27, 92.72s/it]"
          ]
        },
        {
          "name": "stdout",
          "output_type": "stream",
          "text": [
            "epoch : 9, epoch_loss = 176915.72535324097\n"
          ]
        },
        {
          "name": "stderr",
          "output_type": "stream",
          "text": [
            "\r 55%|█████▌    | 11/20 [16:58<13:54, 92.70s/it]"
          ]
        },
        {
          "name": "stdout",
          "output_type": "stream",
          "text": [
            "epoch : 10, epoch_loss = 175116.23809576035\n"
          ]
        },
        {
          "name": "stderr",
          "output_type": "stream",
          "text": [
            "\r 60%|██████    | 12/20 [18:32<12:22, 92.82s/it]"
          ]
        },
        {
          "name": "stdout",
          "output_type": "stream",
          "text": [
            "epoch : 11, epoch_loss = 173733.22649395466\n"
          ]
        },
        {
          "name": "stderr",
          "output_type": "stream",
          "text": [
            "\r 65%|██████▌   | 13/20 [20:04<10:48, 92.64s/it]"
          ]
        },
        {
          "name": "stdout",
          "output_type": "stream",
          "text": [
            "epoch : 12, epoch_loss = 172437.97889053822\n"
          ]
        },
        {
          "name": "stderr",
          "output_type": "stream",
          "text": [
            "\r 70%|███████   | 14/20 [21:36<09:14, 92.43s/it]"
          ]
        },
        {
          "name": "stdout",
          "output_type": "stream",
          "text": [
            "epoch : 13, epoch_loss = 171384.19123733044\n"
          ]
        },
        {
          "name": "stderr",
          "output_type": "stream",
          "text": [
            "\r 75%|███████▌  | 15/20 [23:08<07:41, 92.38s/it]"
          ]
        },
        {
          "name": "stdout",
          "output_type": "stream",
          "text": [
            "epoch : 14, epoch_loss = 170431.89521110058\n"
          ]
        },
        {
          "name": "stderr",
          "output_type": "stream",
          "text": [
            "\r 80%|████████  | 16/20 [24:40<06:09, 92.28s/it]"
          ]
        },
        {
          "name": "stdout",
          "output_type": "stream",
          "text": [
            "epoch : 15, epoch_loss = 169656.17453825474\n"
          ]
        },
        {
          "name": "stderr",
          "output_type": "stream",
          "text": [
            "\r 85%|████████▌ | 17/20 [26:12<04:36, 92.18s/it]"
          ]
        },
        {
          "name": "stdout",
          "output_type": "stream",
          "text": [
            "epoch : 16, epoch_loss = 168830.39898264408\n"
          ]
        },
        {
          "name": "stderr",
          "output_type": "stream",
          "text": [
            "\r 90%|█████████ | 18/20 [27:43<03:03, 91.89s/it]"
          ]
        },
        {
          "name": "stdout",
          "output_type": "stream",
          "text": [
            "epoch : 17, epoch_loss = 168366.07370471954\n"
          ]
        },
        {
          "name": "stderr",
          "output_type": "stream",
          "text": [
            "\r 95%|█████████▌| 19/20 [29:15<01:31, 91.83s/it]"
          ]
        },
        {
          "name": "stdout",
          "output_type": "stream",
          "text": [
            "epoch : 18, epoch_loss = 167816.28219473362\n"
          ]
        },
        {
          "name": "stderr",
          "output_type": "stream",
          "text": [
            "100%|██████████| 20/20 [30:47<00:00, 92.36s/it]"
          ]
        },
        {
          "name": "stdout",
          "output_type": "stream",
          "text": [
            "epoch : 19, epoch_loss = 167332.31866657734\n"
          ]
        },
        {
          "name": "stderr",
          "output_type": "stream",
          "text": [
            "\n"
          ]
        },
        {
          "data": {
            "image/png": "[encoded data removed]",
            "text/plain": [
              "<Figure size 640x480 with 1 Axes>"
            ]
          },
          "metadata": {},
          "output_type": "display_data"
        }
      ],
      "source": [
        "# 0 gamma w/ 100k samples, 10 window size\n",
        "model_new_image_enhanced_word2vec, reps_new_image_enhanced_word2vec, word_to_token_new_image_enhanced  = learn_reps_new_image_enhanced_word2vec(\n",
        "        train_data[\"caption\"], train_data[\"image_embedding\"], WINDOW_SIZE, rep_size=WORD_EMBEDDING_SIZE, image_pca_size=IMAGE_PCA_SIZE,\n",
        "        loss_gamma=0, n_epochs=N_EPOCHS, n_batch=BATCH_SIZE\n",
        ")"
      ]
    },
    {
      "cell_type": "markdown",
      "metadata": {
        "id": "fGRAfko1zW88"
      },
      "source": [
        "## Baseline Word2Vec Model"
      ]
    },
    {
      "cell_type": "code",
      "execution_count": null,
      "metadata": {
        "id": "gU7fUmrj7kql"
      },
      "outputs": [],
      "source": [
        "class BasicWord2VecModel(nn.Module):\n",
        "    def __init__(self, vocab_size, embedding_size, padding_idx):\n",
        "        super().__init__()\n",
        "        self.padded_size = vocab_size + 1 # padding for constant length\n",
        "\n",
        "        # Embedding layer for context words\n",
        "        self.input_embedding = nn.Embedding(self.padded_size, embedding_size, padding_idx=padding_idx).to('cuda') # run on colab gpu\n",
        "\n",
        "        # Embedding layer for target words\n",
        "        self.output_embedding = nn.Linear(embedding_size, self.padded_size).to('cuda')\n",
        "\n",
        "    def forward(self, context):\n",
        "        # out put vector dotted summed input context vectors/context window size\n",
        "\n",
        "         # Embed context words\n",
        "        context_embeddings = self.input_embedding(context)  # Shape: n_batch x n_context x embedding_size\n",
        "\n",
        "        # Sum the embeddings along the context dimension\n",
        "        summed_context = context_embeddings.sum(dim=1)  # Shape: n_batch x embedding_size\n",
        "\n",
        "        predicted_scores = self.output_embedding(summed_context)\n",
        "\n",
        "        return predicted_scores[:,:self.padded_size - 1]"
      ]
    },
    {
      "cell_type": "code",
      "execution_count": null,
      "metadata": {
        "id": "ygZvHWDn8dbA"
      },
      "outputs": [],
      "source": [
        "def learn_reps_basic_word2vec(captions, window_size, rep_size, n_epochs, n_batch):\n",
        "    # This method takes in a corpus of training sentences. It returns a matrix of\n",
        "    # word embeddings with the same structure as used in the previous section of\n",
        "    # the assignment. (You can extract this matrix from the parameters of the\n",
        "    # Word2VecModel.)\n",
        "\n",
        "    tokenizer = Tokenizer()\n",
        "    tokenizer.fit(captions)\n",
        "    tokenized_captions = tokenizer.tokenize(captions)\n",
        "    ngrams = []\n",
        "    pad_idx = tokenizer.vocab_size\n",
        "\n",
        "    for i, cap in enumerate(tokenized_captions):\n",
        "      # if i % 500 == 0:\n",
        "      #   print(f\"get ngrams for cap of length {len(cap)}:\\n {cap}\")\n",
        "      try:\n",
        "        ngrams_i = get_ngrams(cap, window_size, pad_idx)\n",
        "        ngrams.extend(ngrams_i)\n",
        "      except:\n",
        "        continue\n",
        "\n",
        "    device = torch.device('cuda')  # run on colab gpu\n",
        "    model = BasicWord2VecModel(tokenizer.vocab_size, rep_size, pad_idx).to(device)\n",
        "    opt = optim.Adam(model.parameters(), lr=0.001)\n",
        "\n",
        "    print(f\"Captions in dataset generated {len(ngrams)} {window_size * 2 + 1}-grams\")\n",
        "    loader = torch_data.DataLoader(ngrams, batch_size=n_batch, shuffle=True)\n",
        "\n",
        "    loss_fn = nn.CrossEntropyLoss()\n",
        "\n",
        "    losses = []  # Potentially useful for debugging (loss should go down!)\n",
        "    for epoch in tqdm(range(n_epochs)):\n",
        "        epoch_loss = 0\n",
        "\n",
        "        for context, label in loader:\n",
        "            context=context.to(device)\n",
        "            label = label.to(device)\n",
        "            preds = model(context)\n",
        "\n",
        "            loss = loss_fn(preds,label)\n",
        "            opt.zero_grad()\n",
        "            loss.backward()\n",
        "            opt.step()\n",
        "\n",
        "            epoch_loss += loss.item()\n",
        "        losses.append(epoch_loss)\n",
        "        print(f\"epoch : {epoch}, epoch_loss = {epoch_loss}\")\n",
        "\n",
        "    epochs = range(1, len(losses) + 1)\n",
        "\n",
        "    # Create a line plot of losses\n",
        "    plt.plot(epochs, losses, marker='o', linestyle='-')\n",
        "    plt.title('Loss Over Time')\n",
        "    plt.xlabel('Epochs or Iterations')\n",
        "    plt.ylabel('Loss')\n",
        "    plt.grid(True)\n",
        "\n",
        "    # Show the plot\n",
        "    plt.show()\n",
        "    embedding_matrix = model.input_embedding.weight.cpu().detach().numpy()[:tokenizer.vocab_size,:]\n",
        "\n",
        "    # Download the embeddings and tokenization for future use\n",
        "    current_time = datetime.now().strftime(\"%m-%d-%H:%M\")\n",
        "    full_file_path = os.path.join(DRIVE_BASE_PATH, f\"Result Embeddings/Vanilla Word2Vec Model/w2v_embeddings_{len(train_data)}_samples_{current_time}\")\n",
        "    with open(full_file_path, 'wb') as file:\n",
        "      data = {\"embeddings\": embedding_matrix, \"word_to_token\": tokenizer.word_to_token}\n",
        "      pickle.dump(data, file)\n",
        "\n",
        "    return model, embedding_matrix, tokenizer.word_to_token"
      ]
    },
    {
      "cell_type": "code",
      "execution_count": null,
      "metadata": {
        "colab": {
          "base_uri": "https://localhost:8080/",
          "height": 854
        },
        "id": "r6yjuCoP2R02",
        "outputId": "a61845a9-625c-433b-962e-9ba7fedd3d64"
      },
      "outputs": [
        {
          "name": "stdout",
          "output_type": "stream",
          "text": [
            "Captions in dataset generated 833212 5-grams\n"
          ]
        },
        {
          "name": "stderr",
          "output_type": "stream",
          "text": [
            "  5%|▌         | 1/20 [01:10<22:14, 70.24s/it]"
          ]
        },
        {
          "name": "stdout",
          "output_type": "stream",
          "text": [
            "epoch : 0, epoch_loss = 226051.27501177788\n"
          ]
        },
        {
          "name": "stderr",
          "output_type": "stream",
          "text": [
            "\r 10%|█         | 2/20 [02:20<21:08, 70.49s/it]"
          ]
        },
        {
          "name": "stdout",
          "output_type": "stream",
          "text": [
            "epoch : 1, epoch_loss = 201649.05497193336\n"
          ]
        },
        {
          "name": "stderr",
          "output_type": "stream",
          "text": [
            "\r 15%|█▌        | 3/20 [03:31<19:55, 70.33s/it]"
          ]
        },
        {
          "name": "stdout",
          "output_type": "stream",
          "text": [
            "epoch : 2, epoch_loss = 193460.7813501358\n"
          ]
        },
        {
          "name": "stderr",
          "output_type": "stream",
          "text": [
            "\r 20%|██        | 4/20 [04:41<18:46, 70.39s/it]"
          ]
        },
        {
          "name": "stdout",
          "output_type": "stream",
          "text": [
            "epoch : 3, epoch_loss = 186742.27327871323\n"
          ]
        },
        {
          "name": "stderr",
          "output_type": "stream",
          "text": [
            "\r 25%|██▌       | 5/20 [05:51<17:35, 70.38s/it]"
          ]
        },
        {
          "name": "stdout",
          "output_type": "stream",
          "text": [
            "epoch : 4, epoch_loss = 182213.0760102272\n"
          ]
        },
        {
          "name": "stderr",
          "output_type": "stream",
          "text": [
            "\r 30%|███       | 6/20 [07:01<16:23, 70.25s/it]"
          ]
        },
        {
          "name": "stdout",
          "output_type": "stream",
          "text": [
            "epoch : 5, epoch_loss = 179264.14679694176\n"
          ]
        },
        {
          "name": "stderr",
          "output_type": "stream",
          "text": [
            "\r 35%|███▌      | 7/20 [08:12<15:13, 70.28s/it]"
          ]
        },
        {
          "name": "stdout",
          "output_type": "stream",
          "text": [
            "epoch : 6, epoch_loss = 177003.8373810053\n"
          ]
        },
        {
          "name": "stderr",
          "output_type": "stream",
          "text": [
            "\r 40%|████      | 8/20 [09:22<14:04, 70.37s/it]"
          ]
        },
        {
          "name": "stdout",
          "output_type": "stream",
          "text": [
            "epoch : 7, epoch_loss = 175151.2349410057\n"
          ]
        },
        {
          "name": "stderr",
          "output_type": "stream",
          "text": [
            "\r 45%|████▌     | 9/20 [10:32<12:53, 70.30s/it]"
          ]
        },
        {
          "name": "stdout",
          "output_type": "stream",
          "text": [
            "epoch : 8, epoch_loss = 173774.88540923595\n"
          ]
        },
        {
          "name": "stderr",
          "output_type": "stream",
          "text": [
            "\r 50%|█████     | 10/20 [11:42<11:42, 70.22s/it]"
          ]
        },
        {
          "name": "stdout",
          "output_type": "stream",
          "text": [
            "epoch : 9, epoch_loss = 172538.58115434647\n"
          ]
        },
        {
          "name": "stderr",
          "output_type": "stream",
          "text": [
            "\r 55%|█████▌    | 11/20 [12:54<10:34, 70.50s/it]"
          ]
        },
        {
          "name": "stdout",
          "output_type": "stream",
          "text": [
            "epoch : 10, epoch_loss = 171482.42097198963\n"
          ]
        },
        {
          "name": "stderr",
          "output_type": "stream",
          "text": [
            "\r 60%|██████    | 12/20 [14:04<09:23, 70.40s/it]"
          ]
        },
        {
          "name": "stdout",
          "output_type": "stream",
          "text": [
            "epoch : 11, epoch_loss = 170642.87977039814\n"
          ]
        },
        {
          "name": "stderr",
          "output_type": "stream",
          "text": [
            "\r 65%|██████▌   | 13/20 [15:15<08:13, 70.56s/it]"
          ]
        },
        {
          "name": "stdout",
          "output_type": "stream",
          "text": [
            "epoch : 12, epoch_loss = 169954.28825497627\n"
          ]
        },
        {
          "name": "stderr",
          "output_type": "stream",
          "text": [
            "\r 70%|███████   | 14/20 [16:26<07:04, 70.73s/it]"
          ]
        },
        {
          "name": "stdout",
          "output_type": "stream",
          "text": [
            "epoch : 13, epoch_loss = 169263.66762709618\n"
          ]
        },
        {
          "name": "stderr",
          "output_type": "stream",
          "text": [
            "\r 75%|███████▌  | 15/20 [17:37<05:53, 70.72s/it]"
          ]
        },
        {
          "name": "stdout",
          "output_type": "stream",
          "text": [
            "epoch : 14, epoch_loss = 168649.17418694496\n"
          ]
        },
        {
          "name": "stderr",
          "output_type": "stream",
          "text": [
            "\r 80%|████████  | 16/20 [18:47<04:42, 70.67s/it]"
          ]
        },
        {
          "name": "stdout",
          "output_type": "stream",
          "text": [
            "epoch : 15, epoch_loss = 168134.8302154541\n"
          ]
        },
        {
          "name": "stderr",
          "output_type": "stream",
          "text": [
            "\r 85%|████████▌ | 17/20 [19:57<03:31, 70.47s/it]"
          ]
        },
        {
          "name": "stdout",
          "output_type": "stream",
          "text": [
            "epoch : 16, epoch_loss = 167771.72365176678\n"
          ]
        },
        {
          "name": "stderr",
          "output_type": "stream",
          "text": [
            "\r 90%|█████████ | 18/20 [21:07<02:20, 70.34s/it]"
          ]
        },
        {
          "name": "stdout",
          "output_type": "stream",
          "text": [
            "epoch : 17, epoch_loss = 167281.85380625725\n"
          ]
        },
        {
          "name": "stderr",
          "output_type": "stream",
          "text": [
            "\r 95%|█████████▌| 19/20 [22:17<01:10, 70.32s/it]"
          ]
        },
        {
          "name": "stdout",
          "output_type": "stream",
          "text": [
            "epoch : 18, epoch_loss = 167026.54202997684\n"
          ]
        },
        {
          "name": "stderr",
          "output_type": "stream",
          "text": [
            "100%|██████████| 20/20 [23:28<00:00, 70.42s/it]"
          ]
        },
        {
          "name": "stdout",
          "output_type": "stream",
          "text": [
            "epoch : 19, epoch_loss = 166656.18697297573\n"
          ]
        },
        {
          "name": "stderr",
          "output_type": "stream",
          "text": [
            "\n"
          ]
        },
        {
          "data": {
            "image/png": "[encoded data removed]",
            "text/plain": [
              "<Figure size 640x480 with 1 Axes>"
            ]
          },
          "metadata": {},
          "output_type": "display_data"
        }
      ],
      "source": [
        "model_basic_word2vec, basic_reps_word2vec, basic_word2vec_word_to_token = learn_reps_basic_word2vec(\n",
        "    train_data[\"caption\"], WINDOW_SIZE, WORD_EMBEDDING_SIZE, N_EPOCHS, BATCH_SIZE)"
      ]
    },
    {
      "cell_type": "markdown",
      "metadata": {
        "id": "iTjv3UKgoa7U"
      },
      "source": [
        "# Load Trained Embeddings\n",
        "\n",
        "Only need to do this to evaluate the results of a model that has already been trained, and whose resulting embeddings have already been stored in Google Drive. If you just trained a model above, no need to run this cell"
      ]
    },
    {
      "cell_type": "code",
      "execution_count": null,
      "metadata": {
        "id": "VAnXEJ77oeBa"
      },
      "outputs": [],
      "source": [
        "def load_embeddings_and_tokenization(filename, model=\"Image-Enhanced Model\"):\n",
        "  path = f\"{DRIVE_BASE_PATH}/Result Embeddings/{model}/{filename}\"\n",
        "  with open (path, \"rb\") as file:\n",
        "    data = pickle.load(file)\n",
        "    return data[\"embeddings\"], data[\"word_to_token\"]\n",
        "\n",
        "reps_new_gamma_0, word_to_token_new_gamma_0 = load_embeddings_and_tokenization(\"new_w2v_enhanced_embeddings_81980_samples_0_gamma_12-04-16:14\")\n",
        "reps_new_gamma_10, word_to_token_new_gamma_10 = load_embeddings_and_tokenization(\"new_w2v_enhanced_embeddings_81980_samples-0.9-gamma\")\n",
        "reps_new_gamma_50, word_to_token_new_gamma_50 = load_embeddings_and_tokenization(\"new_w2v_enhanced_embeddings_81980_samples-50-gamma\")\n",
        "reps_new_gamma_250, word_to_token_new_gamma_250 = load_embeddings_and_tokenization(\"new_w2v_enhanced_embeddings_81980_samples-250-gamma\")"
      ]
    },
    {
      "cell_type": "markdown",
      "metadata": {
        "id": "lMUFcJHWoqvX"
      },
      "source": [
        "# Evaluation: Show Similar Words"
      ]
    },
    {
      "cell_type": "code",
      "execution_count": null,
      "metadata": {
        "id": "eJY4Sg3hotVG"
      },
      "outputs": [],
      "source": [
        "words = [\"beach\", \"yellow\", \"purple\", \"bus\", \"pizza\", \"dog\", \"cat\", \"the\"]\n",
        "show_tokens = [word_to_token[word] for word in words]\n",
        "\n",
        "captions = train_data[\"caption\"]\n",
        "tokenizer = Tokenizer()\n",
        "tokenizer.fit(captions)\n",
        "\n",
        "word_to_token = tokenizer.word_to_token"
      ]
    },
    {
      "cell_type": "code",
      "execution_count": null,
      "metadata": {
        "colab": {
          "base_uri": "https://localhost:8080/"
        },
        "id": "zR1-y0TyqzyI",
        "outputId": "40292c09-374b-46cd-b63c-737489437276"
      },
      "outputs": [
        {
          "name": "stdout",
          "output_type": "stream",
          "text": [
            "beach 886\n",
            "  sandy 0.369\n",
            "  beaches 0.371\n",
            "  sea 0.373\n",
            "  ocean 0.396\n",
            "  coast 0.456\n",
            "yellow 265\n",
            "  pink 1.007\n",
            "  green 1.086\n",
            "  white 1.158\n",
            "  colorful 1.171\n",
            "  leaf 1.182\n",
            "purple 2369\n",
            "  pink 0.874\n",
            "  black 1.074\n",
            "  gold 1.100\n",
            "  dark 1.129\n",
            "  gray 1.172\n",
            "bus 4\n",
            "  buses 0.775\n",
            "  tram 0.806\n",
            "  traffic 0.812\n",
            "  cars 0.846\n",
            "  taxi 0.847\n",
            "pizza 2316\n",
            "  breakfast 0.507\n",
            "  dinner 0.704\n",
            "  meal 0.748\n",
            "  food 0.814\n",
            "  oven 0.826\n",
            "dog 129\n",
            "  puppy 0.448\n",
            "  dogs 0.502\n",
            "  kitten 0.569\n",
            "  cat 0.580\n",
            "  animal 0.750\n",
            "cat 442\n",
            "  kitten 0.284\n",
            "  puppy 0.447\n",
            "  cats 0.493\n",
            "  dog 0.580\n",
            "  pug 0.621\n",
            "the 51\n",
            "  a 0.980\n",
            "  their 1.202\n",
            "  his 1.229\n",
            "  our 1.315\n",
            "  its 1.321\n"
          ]
        }
      ],
      "source": [
        "show_similar_words(tokenizer, reps_new_gamma_250, show_tokens)"
      ]
    },
    {
      "cell_type": "code",
      "execution_count": null,
      "metadata": {
        "colab": {
          "base_uri": "https://localhost:8080/"
        },
        "id": "HZQAC4RIq4Jd",
        "outputId": "d6d02f8c-2a70-4c54-97c5-72bc283e5f84"
      },
      "outputs": [
        {
          "name": "stdout",
          "output_type": "stream",
          "text": [
            "beach 886\n",
            "  shore 0.688\n",
            "  coast 0.812\n",
            "  shores 0.859\n",
            "  beaches 0.861\n",
            "  ground 0.919\n",
            "yellow 265\n",
            "  pink 1.066\n",
            "  red 1.105\n",
            "  purple 1.173\n",
            "  green 1.235\n",
            "  blue 1.240\n",
            "purple 2369\n",
            "  pink 0.755\n",
            "  grey 1.039\n",
            "  black 1.112\n",
            "  beige 1.139\n",
            "  blue 1.147\n",
            "bus 4\n",
            "  train 1.021\n",
            "  tram 1.103\n",
            "  buses 1.162\n",
            "  guided 1.186\n",
            "  car 1.204\n",
            "pizza 2316\n",
            "  cookie 0.973\n",
            "  breakfast 1.001\n",
            "  milk 1.042\n",
            "  watermelon 1.079\n",
            "  fork 1.085\n",
            "dog 129\n",
            "  puppy 0.722\n",
            "  dogs 0.860\n",
            "  kitten 0.892\n",
            "  cat 0.946\n",
            "  baby 1.043\n",
            "cat 442\n",
            "  kitten 0.695\n",
            "  puppy 0.769\n",
            "  pug 0.872\n",
            "  squirrel 0.884\n",
            "  dog 0.946\n",
            "the 51\n",
            "  a 0.899\n",
            "  its 1.141\n",
            "  our 1.142\n",
            "  their 1.144\n",
            "  his 1.194\n"
          ]
        }
      ],
      "source": [
        "show_similar_words(tokenizer, reps_new_gamma_0, show_tokens)"
      ]
    },
    {
      "cell_type": "markdown",
      "metadata": {
        "id": "twi54anTBImK"
      },
      "source": [
        "# Evaluation: MEN dataset (words similarity)"
      ]
    },
    {
      "cell_type": "code",
      "execution_count": null,
      "metadata": {
        "id": "4ggXgCKfklGJ"
      },
      "outputs": [],
      "source": [
        "# Takes in a list of captions and a list of all words in vocabulary\n",
        "# Returns map from word to the mean of all image embeddings of images whose caption contains that word\n",
        "def averaged_image_embeddings(data, words):\n",
        "    answer = { w : [] for w in words }\n",
        "\n",
        "    for i in range(len(data)):\n",
        "      for w in data[i][\"caption\"].split():\n",
        "        if w in answer.keys():\n",
        "          answer[w].append(data[i][\"image_embedding\"])\n",
        "\n",
        "\n",
        "    for w in answer.keys():\n",
        "      n = len(answer[w])\n",
        "      if len(answer[w]) > 0:\n",
        "        d = len(answer[w][0])\n",
        "        answer[w] = np.array(answer[w]).reshape(n, d)\n",
        "        answer[w] = answer[w].mean(axis = 0).reshape(-1, 1)\n",
        "        assert(answer[w].shape == (d, 1))\n",
        "\n",
        "    return answer"
      ]
    },
    {
      "cell_type": "code",
      "execution_count": null,
      "metadata": {
        "id": "FX-iSqoFBExG"
      },
      "outputs": [],
      "source": [
        "# this is same as dot(A, B) / (||A|| * ||B||)\n",
        "from sklearn.metrics.pairwise import cosine_similarity\n",
        "# The Spearman rank-order correlation coefficient is a nonparametric measure of the monotonicity of the relationship between two datasets\n",
        "from scipy.stats import spearmanr\n",
        "from google.colab import drive\n",
        "\n",
        "men_data_file_path = f\"{DRIVE_BASE_PATH}/MEN Data/MEN_dataset_natural_form_full\"\n",
        "\n",
        "def process_men_data():\n",
        "    file1 = open(men_data_file_path, 'r')\n",
        "    lines = file1.readlines()\n",
        "\n",
        "    words_and_scores = []\n",
        "\n",
        "    # Strips the newline character\n",
        "    for line in lines:\n",
        "        arr = line.split()\n",
        "        assert(len(arr) == 3)\n",
        "        words_and_scores.append( [arr[0], arr[1], float(arr[2]) * 2] )\n",
        "\n",
        "    return words_and_scores\n",
        "\n",
        "def compare_similarities(words_and_scores, word_to_token, learnt_reps,\n",
        "                         averaged_image_embeddings = None, LAM = None, show_graph = False):\n",
        "    \"\"\"\n",
        "    words_and_scores : list of triples (w1, w2, men_score)\n",
        "    \"\"\"\n",
        "\n",
        "    cosine_similarities, men_scores, word_pairs = [], [], []\n",
        "    for w1, w2, score in words_and_scores:\n",
        "\n",
        "      if (w1 not in word_to_token.keys()) or (w2 not in word_to_token.keys()):\n",
        "        continue\n",
        "\n",
        "      embed1, embed2 = learnt_reps[word_to_token[w1]], learnt_reps[word_to_token[w2]]\n",
        "\n",
        "      # assert type(embed1) == list, f\"{type(embed1)}\"\n",
        "\n",
        "      if averaged_image_embeddings is not None:\n",
        "        if (w1 not in averaged_image_embeddings.keys()) or (w2 not in averaged_image_embeddings.keys()):\n",
        "            continue\n",
        "        else:\n",
        "          if LAM is None:\n",
        "            LAM = 1\n",
        "          embed1 = np.concatenate([ (1 / (1 + LAM)) * embed1,\n",
        "                (LAM / (1 + LAM)) * averaged_image_embeddings[w1].reshape(-1)]\n",
        "                                  )\n",
        "\n",
        "          embed2 = np.concatenate([ (1 / (1 + LAM)) * embed2,\n",
        "                (LAM / (1 + LAM)) * averaged_image_embeddings[w2].reshape(-1)]\n",
        "                                  )\n",
        "      word_pairs.append((w1, w2))\n",
        "      cosine_similarities.append(cosine_similarity(embed1.reshape(1, -1), embed2.reshape(1, -1))[0][0] )\n",
        "      men_scores.append(score)\n",
        "\n",
        "    if show_graph:\n",
        "      print(f'Total number of pairs = {len(cosine_similarities)}')\n",
        "      adjusted_men_scores = np.array(men_scores) / 100\n",
        "      plot_indices = np.random.choice(len(cosine_similarities), 50)\n",
        "      plotted_pairs = [(word_pairs[i], adjusted_men_scores[i], cosine_similarities[i]) for i in plot_indices]\n",
        "      print(\"plotting\", plotted_pairs)\n",
        "\n",
        "      plt.scatter(adjusted_men_scores[plot_indices], np.array(cosine_similarities)[plot_indices])\n",
        "      plt.title(\"Selected cosine similarities vs. MEN scores\")\n",
        "      plt.ylabel(\"Cosine similarity between a pair of word embeddings\")\n",
        "      plt.xlabel(\"MEN score for a pair of words\")\n",
        "\n",
        "    # return np.corrcoef(cosine_similarities, men_scores)\n",
        "    spearman_coef = spearmanr(cosine_similarities, men_scores)\n",
        "    return spearman_coef.statistic"
      ]
    },
    {
      "cell_type": "markdown",
      "metadata": {
        "id": "0tR0GsUHnCTk"
      },
      "source": [
        "### Old Image-Enhanced Model"
      ]
    },
    {
      "cell_type": "code",
      "execution_count": null,
      "metadata": {
        "colab": {
          "base_uri": "https://localhost:8080/"
        },
        "id": "4zwhYz9D0kCv",
        "outputId": "aad9ea33-00e9-4a67-e09c-7566f5716f83"
      },
      "outputs": [
        {
          "name": "stdout",
          "output_type": "stream",
          "text": [
            "Total number of pairs = 2697\n",
            "Spearman coefficient for lambda=1: 0.2868361835946353\n"
          ]
        }
      ],
      "source": [
        "train_averaged_image_embeddings = averaged_image_embeddings(train_data,\n",
        "                                                            list(word_to_token_enhanced[1].keys()))\n",
        "\n",
        "for LAM in LAMBDAS_TO_TRY:\n",
        "    sim_score = compare_similarities(words_and_scores = process_men_data(),\n",
        "                                 word_to_token = word_to_token_enhanced[LAM],\n",
        "                                 learnt_reps = reps_enhanced[LAM],\n",
        "                                  averaged_image_embeddings = train_averaged_image_embeddings)\n",
        "\n",
        "    print(f\"Spearman coefficient for lambda={LAM}: {sim_score}\")"
      ]
    },
    {
      "cell_type": "markdown",
      "metadata": {
        "id": "_-vHAEdqnFTx"
      },
      "source": [
        "### New Image-Enhanced Model"
      ]
    },
    {
      "cell_type": "code",
      "execution_count": null,
      "metadata": {
        "id": "r0i8DfKBlbC8"
      },
      "outputs": [],
      "source": [
        "train_averaged_image_embeddings = averaged_image_embeddings(train_data, list(word_to_token_new_image_enhanced.keys()))"
      ]
    },
    {
      "cell_type": "code",
      "execution_count": null,
      "metadata": {
        "colab": {
          "base_uri": "https://localhost:8080/"
        },
        "id": "oCD8o890h0so",
        "outputId": "e5d99888-ba1a-4798-c933-015a960c0639"
      },
      "outputs": [
        {
          "output_type": "stream",
          "name": "stdout",
          "text": [
            "Spearman coefficient for new model: 0.2542604284953706\n"
          ]
        }
      ],
      "source": [
        "sim_score = compare_similarities(words_and_scores = process_men_data(),\n",
        "                                 word_to_token = word_to_token_new_image_enhanced,\n",
        "                                 learnt_reps = reps_new_image_enhanced_word2vec,\n",
        "                                  averaged_image_embeddings = None)\n",
        "\n",
        "print(f\"Spearman coefficient for new model: {sim_score}\")"
      ]
    },
    {
      "cell_type": "markdown",
      "metadata": {
        "id": "duse95XrnHWw"
      },
      "source": [
        "### Baseline Word2Vec Model"
      ]
    },
    {
      "cell_type": "code",
      "execution_count": null,
      "metadata": {
        "colab": {
          "base_uri": "https://localhost:8080/"
        },
        "id": "IhJsmsLJrX1O",
        "outputId": "1c678a89-ad1d-4b0c-8fba-21d77b4f739f"
      },
      "outputs": [
        {
          "name": "stdout",
          "output_type": "stream",
          "text": [
            "Total number of pairs = 2697\n",
            "Spearman coefficient for baseline word2vec: 0.4438420070421831\n"
          ]
        }
      ],
      "source": [
        "sim_score = compare_similarities(words_and_scores = process_men_data(),\n",
        "                              word_to_token = basic_word2vec_word_to_token,\n",
        "                              learnt_reps = basic_reps_word2vec,\n",
        "                              averaged_image_embeddings = None)\n",
        "\n",
        "print(f\"Spearman coefficient for baseline word2vec: {sim_score}\")"
      ]
    },
    {
      "cell_type": "markdown",
      "metadata": {
        "id": "gYRw3wYI0u4w"
      },
      "source": [
        "## Loaded from G-drive models"
      ]
    },
    {
      "cell_type": "code",
      "execution_count": null,
      "metadata": {
        "id": "mMu1oytB6ILB"
      },
      "outputs": [],
      "source": [
        "train_averaged_image_embeddings = averaged_image_embeddings(train_data, list(word_to_token_new_gamma_50.keys()))"
      ]
    },
    {
      "cell_type": "code",
      "execution_count": null,
      "metadata": {
        "colab": {
          "base_uri": "https://localhost:8080/",
          "height": 543
        },
        "id": "F6WxWxCY0u83",
        "outputId": "2092d7df-2aad-458d-ab79-993234f70451"
      },
      "outputs": [
        {
          "name": "stdout",
          "output_type": "stream",
          "text": [
            "Total number of pairs = 2697\n",
            "plotting [(('stand', 'walk'), 0.56, 0.42197064), (('cathedral', 'interior'), 0.44, 0.24954696), (('breakfast', 'dinner'), 0.74, 0.5842054), (('evening', 'sleep'), 0.66, 0.12232857), (('bedroom', 'kitchen'), 0.6, 0.4174435), (('cactus', 'porch'), 0.24, 0.086771466), (('left', 'stop'), 0.38, 0.054182258), (('feel', 'hanging'), 0.2, 0.060478333), (('fruit', 'tomato'), 0.78, 0.21447307), (('santa', 'table'), 0.18, 0.14055361), (('art', 'collage'), 0.66, 0.15260403), (('key', 'stone'), 0.42, 0.24302423), (('born', 'living'), 0.7, 0.06232957), (('tea', 'village'), 0.22, 0.09485688), (('eyes', 'sky'), 0.32, 0.38136426), (('coffee', 'room'), 0.4, -0.017264986), (('feel', 'spiral'), 0.18, 0.022634283), (('bedroom', 'ceiling'), 0.76, 0.33487204), (('lips', 'tongue'), 0.82, 0.35068077), (('mirror', 'raspberry'), 0.08, 0.11290959), (('interior', 'roof'), 0.62, 0.35169858), (('coast', 'downtown'), 0.36, 0.296509), (('soup', 'sweet'), 0.38, 0.1560525), (('bloom', 'buds'), 0.8, 0.21693365), (('day', 'held'), 0.16, 0.18263993), (('blue', 'colour'), 0.78, 0.14403233), (('chicken', 'meat'), 0.76, 0.44264266), (('ceiling', 'mug'), 0.08, 0.17306352), (('drug', 'musicians'), 0.42, -0.014758149), (('concert', 'rock'), 0.74, 0.06149768), (('sea', 'water'), 0.9, 0.4395792), (('bedroom', 'breakfast'), 0.42, 0.19500102), (('aquarium', 'tank'), 0.86, 0.35283625), (('frozen', 'pebbles'), 0.26, 0.18958293), (('jellyfish', 'rally'), 0.04, 0.20643646), (('action', 'dress'), 0.3, 0.039070368), (('construction', 'sailing'), 0.2, 0.132176), (('chicken', 'salad'), 0.6, 0.25715718), (('nuts', 'waterfall'), 0.14, 0.14384387), (('city', 'sidewalk'), 0.78, 0.3777222), (('downtown', 'shore'), 0.42, 0.2893465), (('city', 'round'), 0.3, 0.0005166768), (('black', 'blue'), 0.74, 0.4591543), (('leather', 'sunshine'), 0.1, 0.039176363), (('morning', 'smile'), 0.44, 0.13561821), (('decoration', 'twigs'), 0.42, -0.08195726), (('butterfly', 'dragonfly'), 0.8, 0.25018767), (('concert', 'sing'), 0.68, 0.07267846), (('downtown', 'locked'), 0.28, -0.0028166908), (('moon', 'mushrooms'), 0.22, 0.043548767)]\n"
          ]
        },
        {
          "data": {
            "text/plain": [
              "0.42634397367335536"
            ]
          },
          "execution_count": 12,
          "metadata": {},
          "output_type": "execute_result"
        },
        {
          "data": {
            "image/png": "[encoded data removed]",
            "text/plain": [
              "<Figure size 640x480 with 1 Axes>"
            ]
          },
          "metadata": {},
          "output_type": "display_data"
        }
      ],
      "source": [
        "compare_similarities(\n",
        "    words_and_scores = process_men_data(),\n",
        "    word_to_token = word_to_token_new_gamma_0,\n",
        "    learnt_reps = reps_new_gamma_0,\n",
        "    averaged_image_embeddings = None\n",
        ")"
      ]
    },
    {
      "cell_type": "code",
      "execution_count": null,
      "metadata": {
        "colab": {
          "base_uri": "https://localhost:8080/",
          "height": 506
        },
        "id": "oFemUYxl5-GL",
        "outputId": "798cbccf-e7bf-4947-d21d-498770194ba2"
      },
      "outputs": [
        {
          "name": "stdout",
          "output_type": "stream",
          "text": [
            "Total number of pairs = 2697\n"
          ]
        },
        {
          "data": {
            "text/plain": [
              "0.16571006679705177"
            ]
          },
          "execution_count": 16,
          "metadata": {},
          "output_type": "execute_result"
        },
        {
          "data": {
            "image/png": "[encoded data removed]",
            "text/plain": [
              "<Figure size 640x480 with 1 Axes>"
            ]
          },
          "metadata": {},
          "output_type": "display_data"
        }
      ],
      "source": [
        "compare_similarities(\n",
        "    words_and_scores = process_men_data(),\n",
        "    word_to_token = word_to_token_new_gamma_10,\n",
        "    learnt_reps = reps_new_gamma_10,\n",
        "    averaged_image_embeddings = None\n",
        ")"
      ]
    },
    {
      "cell_type": "code",
      "execution_count": null,
      "metadata": {
        "colab": {
          "base_uri": "https://localhost:8080/",
          "height": 506
        },
        "id": "M4_LeYNS4fOt",
        "outputId": "7291e6b2-c56e-4dc0-ffcc-9b87379ca762"
      },
      "outputs": [
        {
          "name": "stdout",
          "output_type": "stream",
          "text": [
            "Total number of pairs = 2697\n"
          ]
        },
        {
          "data": {
            "text/plain": [
              "0.515860924322386"
            ]
          },
          "execution_count": 15,
          "metadata": {},
          "output_type": "execute_result"
        },
        {
          "data": {
            "image/png": "[encoded data removed]",
            "text/plain": [
              "<Figure size 640x480 with 1 Axes>"
            ]
          },
          "metadata": {},
          "output_type": "display_data"
        }
      ],
      "source": [
        "compare_similarities(\n",
        "    words_and_scores = process_men_data(),\n",
        "    word_to_token = word_to_token_new_gamma_50,\n",
        "    learnt_reps = reps_new_gamma_50,\n",
        "    averaged_image_embeddings = None\n",
        ")"
      ]
    },
    {
      "cell_type": "code",
      "execution_count": null,
      "metadata": {
        "colab": {
          "base_uri": "https://localhost:8080/",
          "height": 543
        },
        "id": "4kOjnlWgYIhw",
        "outputId": "847fb638-7e94-4045-e4fd-37a69843d879"
      },
      "outputs": [
        {
          "name": "stdout",
          "output_type": "stream",
          "text": [
            "Total number of pairs = 2697\n",
            "plotting [(('match', 'round'), 0.54, 0.24274836), (('floor', 'marble'), 0.72, 0.29865927), (('fishing', 'shore'), 0.6, 0.5050415), (('foliage', 'restaurant'), 0.22, 0.022289237), (('palm', 'tree'), 0.74, -0.061171826), (('train', 'underground'), 0.54, 0.31638628), (('airplane', 'airport'), 0.82, 0.32508498), (('cheetah', 'lion'), 0.8, 0.5166459), (('stream', 'waterfall'), 0.78, 0.80515975), (('hummingbird', 'tropical'), 0.52, -0.16809799), (('game', 'husky'), 0.12, 0.03495202), (('eat', 'soup'), 0.78, 0.33052152), (('downtown', 'locked'), 0.28, -0.065390155), (('colour', 'red'), 0.82, -0.059588064), (('barn', 'owl'), 0.48, 0.072280936), (('collage', 'exhibition'), 0.62, 0.268056), (('skirt', 'wig'), 0.22, 0.12867576), (('cat', 'purple'), 0.14, 0.10723258), (('bed', 'bedroom'), 0.84, 0.82687336), (('landscape', 'scenery'), 0.76, 0.550664), (('bucket', 'duck'), 0.16, 0.105883926), (('purple', 'white'), 0.72, 0.31534785), (('bar', 'cafe'), 0.64, 0.56868285), (('concert', 'piano'), 0.68, 0.38400766), (('swim', 'vehicle'), 0.12, 0.027280668), (('fun', 'stop'), 0.22, 0.032827605), (('car', 'parking'), 0.72, 0.37258208), (('cafe', 'pub'), 0.8, 0.2875218), (('patio', 'staircase'), 0.5, 0.36309093), (('rainbow', 'whale'), 0.18, 0.13292356), (('apple', 'raspberry'), 0.78, 0.09136148), (('cheerleaders', 'scenery'), 0.28, 0.088760585), (('dog', 'sailing'), 0.18, -0.0480195), (('city', 'living'), 0.64, -0.023472922), (('bedroom', 'diner'), 0.3, -0.050041877), (('band', 'played'), 0.74, 0.22618443), (('birthday', 'happy'), 0.72, -0.002879967), (('pets', 'poodle'), 0.76, 0.23950471), (('jump', 'salad'), 0.12, 0.026381306), (('burger', 'food'), 0.86, 0.16618131), (('aerial', 'clown'), 0.24, -0.08172508), (('gate', 'pebbles'), 0.34, 0.0110772895), (('couple', 'square'), 0.18, -0.116392784), (('furniture', 'man'), 0.22, -0.045355845), (('couple', 'outdoor'), 0.28, 0.16703282), (('strawberry', 'sweet'), 0.88, 0.08934328), (('dirty', 'rusty'), 0.54, 0.22421238), (('bag', 'wire'), 0.28, -0.06166775), (('blurred', 'lens'), 0.6, 0.011027177), (('gate', 'hotel'), 0.4, 0.10829233)]\n"
          ]
        },
        {
          "data": {
            "text/plain": [
              "0.5734780765047204"
            ]
          },
          "execution_count": 37,
          "metadata": {},
          "output_type": "execute_result"
        },
        {
          "data": {
            "image/png": "[encoded data removed]",
            "text/plain": [
              "<Figure size 640x480 with 1 Axes>"
            ]
          },
          "metadata": {},
          "output_type": "display_data"
        }
      ],
      "source": [
        "compare_similarities(\n",
        "    words_and_scores = process_men_data(),\n",
        "    word_to_token = word_to_token_new_gamma_250,\n",
        "    learnt_reps = reps_new_gamma_250,\n",
        "    averaged_image_embeddings = None\n",
        ")"
      ]
    },
    {
      "cell_type": "code",
      "execution_count": null,
      "metadata": {
        "id": "uOCcPXXF0t3C"
      },
      "outputs": [],
      "source": []
    },
    {
      "cell_type": "markdown",
      "metadata": {
        "id": "Vy3E9Z7-loga"
      },
      "source": [
        "# Scratch stuff"
      ]
    },
    {
      "cell_type": "code",
      "execution_count": null,
      "metadata": {
        "id": "emXFePwhe8pB"
      },
      "outputs": [],
      "source": [
        "# # trained vanilla model on 100k samples to see how big MEN score can be\n",
        "# # reps_word2vec = learn_reps_basic_word2vec(dataset_filtered[\"caption\"], 2, 500, 5, 100)\n",
        "# window_size = 2\n",
        "# n_batch = 500\n",
        "# embedding_size = 200\n",
        "# n_epochs = 15\n",
        "\n",
        "\n",
        "# model_basic_word2vec, reps_word2vec, basic_word2vec_word_to_token = learn_reps_basic_word2vec(\n",
        "#     dataset_train[\"caption\"], window_size, embedding_size, n_epochs, n_batch)\n",
        "\n",
        "\n",
        "# sim_score = compare_similarities(words_and_scores = process_med_data(),\n",
        "#                                  word_to_token = basic_word2vec_word_to_token,\n",
        "#                                  learnt_reps = reps_word2vec)\n",
        "# print(sim_score)"
      ]
    },
    {
      "cell_type": "code",
      "execution_count": null,
      "metadata": {
        "id": "seNoZJz1qsMV"
      },
      "outputs": [],
      "source": []
    },
    {
      "cell_type": "code",
      "execution_count": null,
      "metadata": {
        "id": "KUFSY0_OqsOX"
      },
      "outputs": [],
      "source": []
    },
    {
      "cell_type": "code",
      "execution_count": null,
      "metadata": {
        "id": "zI1lan29qsQo"
      },
      "outputs": [],
      "source": []
    },
    {
      "cell_type": "code",
      "execution_count": null,
      "metadata": {
        "id": "Ge7exk_hqsSq"
      },
      "outputs": [],
      "source": [
        "# #### NEW, scratch work from VLAD, doesn't matter for the report.\n",
        "\n",
        "# LAMBDAS_TO_TRY = [0, 0.03, 0.1, 1, 2, 5]"
      ]
    },
    {
      "cell_type": "code",
      "execution_count": null,
      "metadata": {
        "colab": {
          "base_uri": "https://localhost:8080/",
          "height": 1000
        },
        "id": "vmu0bPNpq9fo",
        "outputId": "f7e27bcf-bd94-4261-9a2c-50b888096826"
      },
      "outputs": [
        {
          "name": "stdout",
          "output_type": "stream",
          "text": [
            "bulding model for LAM = 0\n",
            "7889 7889\n"
          ]
        },
        {
          "name": "stderr",
          "output_type": "stream",
          "text": [
            "  5%|▌         | 1/20 [00:18<05:49, 18.38s/it]"
          ]
        },
        {
          "name": "stdout",
          "output_type": "stream",
          "text": [
            "epoch : 0, epoch_loss = 27981.07549929619\n"
          ]
        },
        {
          "name": "stderr",
          "output_type": "stream",
          "text": [
            "\r 10%|█         | 2/20 [00:36<05:25, 18.10s/it]"
          ]
        },
        {
          "name": "stdout",
          "output_type": "stream",
          "text": [
            "epoch : 1, epoch_loss = 21782.64013171196\n"
          ]
        },
        {
          "name": "stderr",
          "output_type": "stream",
          "text": [
            "\r 15%|█▌        | 3/20 [00:54<05:09, 18.21s/it]"
          ]
        },
        {
          "name": "stdout",
          "output_type": "stream",
          "text": [
            "epoch : 2, epoch_loss = 18996.2836933136\n"
          ]
        },
        {
          "name": "stderr",
          "output_type": "stream",
          "text": [
            "\r 20%|██        | 4/20 [01:12<04:51, 18.25s/it]"
          ]
        },
        {
          "name": "stdout",
          "output_type": "stream",
          "text": [
            "epoch : 3, epoch_loss = 17048.213782072067\n"
          ]
        },
        {
          "name": "stderr",
          "output_type": "stream",
          "text": [
            "\r 25%|██▌       | 5/20 [01:30<04:32, 18.15s/it]"
          ]
        },
        {
          "name": "stdout",
          "output_type": "stream",
          "text": [
            "epoch : 4, epoch_loss = 15571.476358532906\n"
          ]
        },
        {
          "name": "stderr",
          "output_type": "stream",
          "text": [
            "\r 30%|███       | 6/20 [01:48<04:13, 18.11s/it]"
          ]
        },
        {
          "name": "stdout",
          "output_type": "stream",
          "text": [
            "epoch : 5, epoch_loss = 14404.905203461647\n"
          ]
        },
        {
          "name": "stderr",
          "output_type": "stream",
          "text": [
            "\r 35%|███▌      | 7/20 [02:07<03:55, 18.10s/it]"
          ]
        },
        {
          "name": "stdout",
          "output_type": "stream",
          "text": [
            "epoch : 6, epoch_loss = 13451.159489512444\n"
          ]
        },
        {
          "name": "stderr",
          "output_type": "stream",
          "text": [
            "\r 40%|████      | 8/20 [02:24<03:36, 18.05s/it]"
          ]
        },
        {
          "name": "stdout",
          "output_type": "stream",
          "text": [
            "epoch : 7, epoch_loss = 12631.850024104118\n"
          ]
        },
        {
          "name": "stderr",
          "output_type": "stream",
          "text": [
            "\r 45%|████▌     | 9/20 [02:42<03:18, 18.00s/it]"
          ]
        },
        {
          "name": "stdout",
          "output_type": "stream",
          "text": [
            "epoch : 8, epoch_loss = 11914.580458283424\n"
          ]
        },
        {
          "name": "stderr",
          "output_type": "stream",
          "text": [
            "\r 50%|█████     | 10/20 [03:00<02:59, 18.00s/it]"
          ]
        },
        {
          "name": "stdout",
          "output_type": "stream",
          "text": [
            "epoch : 9, epoch_loss = 11283.867188215256\n"
          ]
        },
        {
          "name": "stderr",
          "output_type": "stream",
          "text": [
            "\r 55%|█████▌    | 11/20 [03:18<02:42, 18.03s/it]"
          ]
        },
        {
          "name": "stdout",
          "output_type": "stream",
          "text": [
            "epoch : 10, epoch_loss = 10720.964811086655\n"
          ]
        },
        {
          "name": "stderr",
          "output_type": "stream",
          "text": [
            "\r 60%|██████    | 12/20 [03:36<02:24, 18.03s/it]"
          ]
        },
        {
          "name": "stdout",
          "output_type": "stream",
          "text": [
            "epoch : 11, epoch_loss = 10205.644464492798\n"
          ]
        },
        {
          "name": "stderr",
          "output_type": "stream",
          "text": [
            "\r 65%|██████▌   | 13/20 [03:55<02:06, 18.07s/it]"
          ]
        },
        {
          "name": "stdout",
          "output_type": "stream",
          "text": [
            "epoch : 12, epoch_loss = 9737.945435285568\n"
          ]
        },
        {
          "name": "stderr",
          "output_type": "stream",
          "text": [
            "\r 70%|███████   | 14/20 [04:13<01:48, 18.08s/it]"
          ]
        },
        {
          "name": "stdout",
          "output_type": "stream",
          "text": [
            "epoch : 13, epoch_loss = 9311.092960953712\n"
          ]
        },
        {
          "name": "stderr",
          "output_type": "stream",
          "text": [
            "\r 75%|███████▌  | 15/20 [04:31<01:30, 18.03s/it]"
          ]
        },
        {
          "name": "stdout",
          "output_type": "stream",
          "text": [
            "epoch : 14, epoch_loss = 8919.931016027927\n"
          ]
        },
        {
          "name": "stderr",
          "output_type": "stream",
          "text": [
            "\r 80%|████████  | 16/20 [04:49<01:11, 17.98s/it]"
          ]
        },
        {
          "name": "stdout",
          "output_type": "stream",
          "text": [
            "epoch : 15, epoch_loss = 8578.656542778015\n"
          ]
        },
        {
          "name": "stderr",
          "output_type": "stream",
          "text": [
            "\r 85%|████████▌ | 17/20 [05:06<00:53, 17.96s/it]"
          ]
        },
        {
          "name": "stdout",
          "output_type": "stream",
          "text": [
            "epoch : 16, epoch_loss = 8267.382730901241\n"
          ]
        },
        {
          "name": "stderr",
          "output_type": "stream",
          "text": [
            "\r 90%|█████████ | 18/20 [05:24<00:35, 17.91s/it]"
          ]
        },
        {
          "name": "stdout",
          "output_type": "stream",
          "text": [
            "epoch : 17, epoch_loss = 7965.076540470123\n"
          ]
        },
        {
          "name": "stderr",
          "output_type": "stream",
          "text": [
            "\r 95%|█████████▌| 19/20 [05:42<00:17, 17.90s/it]"
          ]
        },
        {
          "name": "stdout",
          "output_type": "stream",
          "text": [
            "epoch : 18, epoch_loss = 7714.656661748886\n"
          ]
        },
        {
          "name": "stderr",
          "output_type": "stream",
          "text": [
            "100%|██████████| 20/20 [06:00<00:00, 18.04s/it]"
          ]
        },
        {
          "name": "stdout",
          "output_type": "stream",
          "text": [
            "epoch : 19, epoch_loss = 7482.201655834913\n"
          ]
        },
        {
          "name": "stderr",
          "output_type": "stream",
          "text": [
            "\n"
          ]
        },
        {
          "data": {
            "image/png": "[encoded data removed]",
            "text/plain": [
              "<Figure size 640x480 with 1 Axes>"
            ]
          },
          "metadata": {},
          "output_type": "display_data"
        },
        {
          "name": "stdout",
          "output_type": "stream",
          "text": [
            "bulding model for LAM = 0.03\n",
            "7889 7889\n"
          ]
        },
        {
          "name": "stderr",
          "output_type": "stream",
          "text": [
            "  5%|▌         | 1/20 [00:17<05:41, 17.96s/it]"
          ]
        },
        {
          "name": "stdout",
          "output_type": "stream",
          "text": [
            "epoch : 0, epoch_loss = 27792.281870126724\n"
          ]
        },
        {
          "name": "stderr",
          "output_type": "stream",
          "text": [
            "\r 10%|█         | 2/20 [00:35<05:22, 17.93s/it]"
          ]
        },
        {
          "name": "stdout",
          "output_type": "stream",
          "text": [
            "epoch : 1, epoch_loss = 21475.741557121277\n"
          ]
        },
        {
          "name": "stderr",
          "output_type": "stream",
          "text": [
            "\r 15%|█▌        | 3/20 [00:53<05:05, 17.95s/it]"
          ]
        },
        {
          "name": "stdout",
          "output_type": "stream",
          "text": [
            "epoch : 2, epoch_loss = 18506.176560401917\n"
          ]
        },
        {
          "name": "stderr",
          "output_type": "stream",
          "text": [
            "\r 20%|██        | 4/20 [01:11<04:48, 18.00s/it]"
          ]
        },
        {
          "name": "stdout",
          "output_type": "stream",
          "text": [
            "epoch : 3, epoch_loss = 16385.249825954437\n"
          ]
        },
        {
          "name": "stderr",
          "output_type": "stream",
          "text": [
            "\r 25%|██▌       | 5/20 [01:30<04:30, 18.03s/it]"
          ]
        },
        {
          "name": "stdout",
          "output_type": "stream",
          "text": [
            "epoch : 4, epoch_loss = 14753.530599713326\n"
          ]
        },
        {
          "name": "stderr",
          "output_type": "stream",
          "text": [
            "\r 30%|███       | 6/20 [01:47<04:11, 17.99s/it]"
          ]
        },
        {
          "name": "stdout",
          "output_type": "stream",
          "text": [
            "epoch : 5, epoch_loss = 13468.226026177406\n"
          ]
        },
        {
          "name": "stderr",
          "output_type": "stream",
          "text": [
            "\r 35%|███▌      | 7/20 [02:05<03:53, 17.95s/it]"
          ]
        },
        {
          "name": "stdout",
          "output_type": "stream",
          "text": [
            "epoch : 6, epoch_loss = 12399.762457847595\n"
          ]
        },
        {
          "name": "stderr",
          "output_type": "stream",
          "text": [
            "\r 40%|████      | 8/20 [02:23<03:35, 17.93s/it]"
          ]
        },
        {
          "name": "stdout",
          "output_type": "stream",
          "text": [
            "epoch : 7, epoch_loss = 11507.055449962616\n"
          ]
        },
        {
          "name": "stderr",
          "output_type": "stream",
          "text": [
            "\r 45%|████▌     | 9/20 [02:41<03:17, 17.93s/it]"
          ]
        },
        {
          "name": "stdout",
          "output_type": "stream",
          "text": [
            "epoch : 8, epoch_loss = 10715.543060302734\n"
          ]
        },
        {
          "name": "stderr",
          "output_type": "stream",
          "text": [
            "\r 50%|█████     | 10/20 [02:59<02:59, 17.96s/it]"
          ]
        },
        {
          "name": "stdout",
          "output_type": "stream",
          "text": [
            "epoch : 9, epoch_loss = 10017.882574856281\n"
          ]
        },
        {
          "name": "stderr",
          "output_type": "stream",
          "text": [
            "\r 55%|█████▌    | 11/20 [03:17<02:42, 18.02s/it]"
          ]
        },
        {
          "name": "stdout",
          "output_type": "stream",
          "text": [
            "epoch : 10, epoch_loss = 9380.656111836433\n"
          ]
        },
        {
          "name": "stderr",
          "output_type": "stream",
          "text": [
            "\r 60%|██████    | 12/20 [03:36<02:24, 18.11s/it]"
          ]
        },
        {
          "name": "stdout",
          "output_type": "stream",
          "text": [
            "epoch : 11, epoch_loss = 8811.79896068573\n"
          ]
        },
        {
          "name": "stderr",
          "output_type": "stream",
          "text": [
            "\r 65%|██████▌   | 13/20 [03:54<02:06, 18.07s/it]"
          ]
        },
        {
          "name": "stdout",
          "output_type": "stream",
          "text": [
            "epoch : 12, epoch_loss = 8302.291417121887\n"
          ]
        },
        {
          "name": "stderr",
          "output_type": "stream",
          "text": [
            "\r 70%|███████   | 14/20 [04:12<01:48, 18.02s/it]"
          ]
        },
        {
          "name": "stdout",
          "output_type": "stream",
          "text": [
            "epoch : 13, epoch_loss = 7828.787387549877\n"
          ]
        },
        {
          "name": "stderr",
          "output_type": "stream",
          "text": [
            "\r 75%|███████▌  | 15/20 [04:29<01:29, 17.99s/it]"
          ]
        },
        {
          "name": "stdout",
          "output_type": "stream",
          "text": [
            "epoch : 14, epoch_loss = 7403.681728065014\n"
          ]
        },
        {
          "name": "stderr",
          "output_type": "stream",
          "text": [
            "\r 80%|████████  | 16/20 [04:47<01:11, 17.97s/it]"
          ]
        },
        {
          "name": "stdout",
          "output_type": "stream",
          "text": [
            "epoch : 15, epoch_loss = 7029.897521913052\n"
          ]
        },
        {
          "name": "stderr",
          "output_type": "stream",
          "text": [
            "\r 85%|████████▌ | 17/20 [05:05<00:53, 18.00s/it]"
          ]
        },
        {
          "name": "stdout",
          "output_type": "stream",
          "text": [
            "epoch : 16, epoch_loss = 6680.74287456274\n"
          ]
        },
        {
          "name": "stderr",
          "output_type": "stream",
          "text": [
            "\r 90%|█████████ | 18/20 [05:24<00:36, 18.07s/it]"
          ]
        },
        {
          "name": "stdout",
          "output_type": "stream",
          "text": [
            "epoch : 17, epoch_loss = 6367.203501790762\n"
          ]
        },
        {
          "name": "stderr",
          "output_type": "stream",
          "text": [
            "\r 95%|█████████▌| 19/20 [05:42<00:18, 18.08s/it]"
          ]
        },
        {
          "name": "stdout",
          "output_type": "stream",
          "text": [
            "epoch : 18, epoch_loss = 6070.244794845581\n"
          ]
        },
        {
          "name": "stderr",
          "output_type": "stream",
          "text": [
            "100%|██████████| 20/20 [06:00<00:00, 18.01s/it]"
          ]
        },
        {
          "name": "stdout",
          "output_type": "stream",
          "text": [
            "epoch : 19, epoch_loss = 5820.086656033993\n"
          ]
        },
        {
          "name": "stderr",
          "output_type": "stream",
          "text": [
            "\n"
          ]
        },
        {
          "data": {
            "image/png": "[encoded data removed]",
            "text/plain": [
              "<Figure size 640x480 with 1 Axes>"
            ]
          },
          "metadata": {},
          "output_type": "display_data"
        },
        {
          "name": "stdout",
          "output_type": "stream",
          "text": [
            "bulding model for LAM = 0.1\n",
            "7889 7889\n"
          ]
        },
        {
          "name": "stderr",
          "output_type": "stream",
          "text": [
            "  5%|▌         | 1/20 [00:18<05:42, 18.01s/it]"
          ]
        },
        {
          "name": "stdout",
          "output_type": "stream",
          "text": [
            "epoch : 0, epoch_loss = 27463.568996667862\n"
          ]
        },
        {
          "name": "stderr",
          "output_type": "stream",
          "text": [
            "\r 10%|█         | 2/20 [00:36<05:25, 18.09s/it]"
          ]
        },
        {
          "name": "stdout",
          "output_type": "stream",
          "text": [
            "epoch : 1, epoch_loss = 20758.62983727455\n"
          ]
        },
        {
          "name": "stderr",
          "output_type": "stream",
          "text": [
            "\r 15%|█▌        | 3/20 [00:54<05:07, 18.12s/it]"
          ]
        },
        {
          "name": "stdout",
          "output_type": "stream",
          "text": [
            "epoch : 2, epoch_loss = 17495.167145252228\n"
          ]
        },
        {
          "name": "stderr",
          "output_type": "stream",
          "text": [
            "\r 20%|██        | 4/20 [01:12<04:48, 18.05s/it]"
          ]
        },
        {
          "name": "stdout",
          "output_type": "stream",
          "text": [
            "epoch : 3, epoch_loss = 15135.841805696487\n"
          ]
        },
        {
          "name": "stderr",
          "output_type": "stream",
          "text": [
            "\r 25%|██▌       | 5/20 [01:30<04:30, 18.01s/it]"
          ]
        },
        {
          "name": "stdout",
          "output_type": "stream",
          "text": [
            "epoch : 4, epoch_loss = 13318.975425124168\n"
          ]
        },
        {
          "name": "stderr",
          "output_type": "stream",
          "text": [
            "\r 30%|███       | 6/20 [01:48<04:11, 17.98s/it]"
          ]
        },
        {
          "name": "stdout",
          "output_type": "stream",
          "text": [
            "epoch : 5, epoch_loss = 11912.578182935715\n"
          ]
        },
        {
          "name": "stderr",
          "output_type": "stream",
          "text": [
            "\r 35%|███▌      | 7/20 [02:05<03:53, 17.94s/it]"
          ]
        },
        {
          "name": "stdout",
          "output_type": "stream",
          "text": [
            "epoch : 6, epoch_loss = 10778.083662986755\n"
          ]
        },
        {
          "name": "stderr",
          "output_type": "stream",
          "text": [
            "\r 40%|████      | 8/20 [02:23<03:35, 17.94s/it]"
          ]
        },
        {
          "name": "stdout",
          "output_type": "stream",
          "text": [
            "epoch : 7, epoch_loss = 9813.2366284132\n"
          ]
        },
        {
          "name": "stderr",
          "output_type": "stream",
          "text": [
            "\r 45%|████▌     | 9/20 [02:41<03:17, 17.97s/it]"
          ]
        },
        {
          "name": "stdout",
          "output_type": "stream",
          "text": [
            "epoch : 8, epoch_loss = 8980.939078092575\n"
          ]
        },
        {
          "name": "stderr",
          "output_type": "stream",
          "text": [
            "\r 50%|█████     | 10/20 [03:00<02:59, 18.00s/it]"
          ]
        },
        {
          "name": "stdout",
          "output_type": "stream",
          "text": [
            "epoch : 9, epoch_loss = 8245.80218604207\n"
          ]
        },
        {
          "name": "stderr",
          "output_type": "stream",
          "text": [
            "\r 55%|█████▌    | 11/20 [03:17<02:41, 17.97s/it]"
          ]
        },
        {
          "name": "stdout",
          "output_type": "stream",
          "text": [
            "epoch : 10, epoch_loss = 7605.957480788231\n"
          ]
        },
        {
          "name": "stderr",
          "output_type": "stream",
          "text": [
            "\r 60%|██████    | 12/20 [03:35<02:23, 17.93s/it]"
          ]
        },
        {
          "name": "stdout",
          "output_type": "stream",
          "text": [
            "epoch : 11, epoch_loss = 7024.140243649483\n"
          ]
        },
        {
          "name": "stderr",
          "output_type": "stream",
          "text": [
            "\r 65%|██████▌   | 13/20 [03:53<02:05, 17.91s/it]"
          ]
        },
        {
          "name": "stdout",
          "output_type": "stream",
          "text": [
            "epoch : 12, epoch_loss = 6503.309846967459\n"
          ]
        },
        {
          "name": "stderr",
          "output_type": "stream",
          "text": [
            "\r 70%|███████   | 14/20 [04:11<01:47, 17.92s/it]"
          ]
        },
        {
          "name": "stdout",
          "output_type": "stream",
          "text": [
            "epoch : 13, epoch_loss = 6039.6209063231945\n"
          ]
        },
        {
          "name": "stderr",
          "output_type": "stream",
          "text": [
            "\r 75%|███████▌  | 15/20 [04:29<01:29, 17.92s/it]"
          ]
        },
        {
          "name": "stdout",
          "output_type": "stream",
          "text": [
            "epoch : 14, epoch_loss = 5627.203015387058\n"
          ]
        },
        {
          "name": "stderr",
          "output_type": "stream",
          "text": [
            "\r 80%|████████  | 16/20 [04:47<01:11, 17.98s/it]"
          ]
        },
        {
          "name": "stdout",
          "output_type": "stream",
          "text": [
            "epoch : 15, epoch_loss = 5254.618244886398\n"
          ]
        },
        {
          "name": "stderr",
          "output_type": "stream",
          "text": [
            "\r 85%|████████▌ | 17/20 [05:05<00:54, 18.00s/it]"
          ]
        },
        {
          "name": "stdout",
          "output_type": "stream",
          "text": [
            "epoch : 16, epoch_loss = 4913.140769690275\n"
          ]
        },
        {
          "name": "stderr",
          "output_type": "stream",
          "text": [
            "\r 90%|█████████ | 18/20 [05:23<00:35, 17.98s/it]"
          ]
        },
        {
          "name": "stdout",
          "output_type": "stream",
          "text": [
            "epoch : 17, epoch_loss = 4615.818914890289\n"
          ]
        },
        {
          "name": "stderr",
          "output_type": "stream",
          "text": [
            "\r 95%|█████████▌| 19/20 [05:41<00:17, 17.95s/it]"
          ]
        },
        {
          "name": "stdout",
          "output_type": "stream",
          "text": [
            "epoch : 18, epoch_loss = 4332.133059412241\n"
          ]
        },
        {
          "name": "stderr",
          "output_type": "stream",
          "text": [
            "100%|██████████| 20/20 [05:59<00:00, 17.97s/it]"
          ]
        },
        {
          "name": "stdout",
          "output_type": "stream",
          "text": [
            "epoch : 19, epoch_loss = 4086.1347095668316\n"
          ]
        },
        {
          "name": "stderr",
          "output_type": "stream",
          "text": [
            "\n"
          ]
        },
        {
          "data": {
            "image/png": "[encoded data removed]",
            "text/plain": [
              "<Figure size 640x480 with 1 Axes>"
            ]
          },
          "metadata": {},
          "output_type": "display_data"
        },
        {
          "name": "stdout",
          "output_type": "stream",
          "text": [
            "bulding model for LAM = 1\n",
            "7889 7889\n"
          ]
        },
        {
          "name": "stderr",
          "output_type": "stream",
          "text": [
            "  5%|▌         | 1/20 [00:18<05:44, 18.12s/it]"
          ]
        },
        {
          "name": "stdout",
          "output_type": "stream",
          "text": [
            "epoch : 0, epoch_loss = 26435.988445281982\n"
          ]
        },
        {
          "name": "stderr",
          "output_type": "stream",
          "text": [
            "\r 10%|█         | 2/20 [00:36<05:25, 18.08s/it]"
          ]
        },
        {
          "name": "stdout",
          "output_type": "stream",
          "text": [
            "epoch : 1, epoch_loss = 18943.358479499817\n"
          ]
        },
        {
          "name": "stderr",
          "output_type": "stream",
          "text": [
            "\r 15%|█▌        | 3/20 [00:54<05:05, 17.99s/it]"
          ]
        },
        {
          "name": "stdout",
          "output_type": "stream",
          "text": [
            "epoch : 2, epoch_loss = 14904.55367732048\n"
          ]
        },
        {
          "name": "stderr",
          "output_type": "stream",
          "text": [
            "\r 20%|██        | 4/20 [01:12<04:47, 18.00s/it]"
          ]
        },
        {
          "name": "stdout",
          "output_type": "stream",
          "text": [
            "epoch : 3, epoch_loss = 12069.66992533207\n"
          ]
        },
        {
          "name": "stderr",
          "output_type": "stream",
          "text": [
            "\r 25%|██▌       | 5/20 [01:30<04:30, 18.01s/it]"
          ]
        },
        {
          "name": "stdout",
          "output_type": "stream",
          "text": [
            "epoch : 4, epoch_loss = 10100.342945456505\n"
          ]
        },
        {
          "name": "stderr",
          "output_type": "stream",
          "text": [
            "\r 30%|███       | 6/20 [01:48<04:11, 17.99s/it]"
          ]
        },
        {
          "name": "stdout",
          "output_type": "stream",
          "text": [
            "epoch : 5, epoch_loss = 8663.133724331856\n"
          ]
        },
        {
          "name": "stderr",
          "output_type": "stream",
          "text": [
            "\r 35%|███▌      | 7/20 [02:06<03:54, 18.03s/it]"
          ]
        },
        {
          "name": "stdout",
          "output_type": "stream",
          "text": [
            "epoch : 6, epoch_loss = 7547.462950706482\n"
          ]
        },
        {
          "name": "stderr",
          "output_type": "stream",
          "text": [
            "\r 40%|████      | 8/20 [02:24<03:36, 18.07s/it]"
          ]
        },
        {
          "name": "stdout",
          "output_type": "stream",
          "text": [
            "epoch : 7, epoch_loss = 6641.69125893712\n"
          ]
        },
        {
          "name": "stderr",
          "output_type": "stream",
          "text": [
            "\r 45%|████▌     | 9/20 [02:42<03:18, 18.07s/it]"
          ]
        },
        {
          "name": "stdout",
          "output_type": "stream",
          "text": [
            "epoch : 8, epoch_loss = 5890.649517416954\n"
          ]
        },
        {
          "name": "stderr",
          "output_type": "stream",
          "text": [
            "\r 50%|█████     | 10/20 [03:00<03:00, 18.02s/it]"
          ]
        },
        {
          "name": "stdout",
          "output_type": "stream",
          "text": [
            "epoch : 9, epoch_loss = 5251.039268612862\n"
          ]
        },
        {
          "name": "stderr",
          "output_type": "stream",
          "text": [
            "\r 55%|█████▌    | 11/20 [03:18<02:41, 17.99s/it]"
          ]
        },
        {
          "name": "stdout",
          "output_type": "stream",
          "text": [
            "epoch : 10, epoch_loss = 4699.904470235109\n"
          ]
        },
        {
          "name": "stderr",
          "output_type": "stream",
          "text": [
            "\r 60%|██████    | 12/20 [03:36<02:23, 18.00s/it]"
          ]
        },
        {
          "name": "stdout",
          "output_type": "stream",
          "text": [
            "epoch : 11, epoch_loss = 4234.507381498814\n"
          ]
        },
        {
          "name": "stderr",
          "output_type": "stream",
          "text": [
            "\r 65%|██████▌   | 13/20 [03:54<02:05, 18.00s/it]"
          ]
        },
        {
          "name": "stdout",
          "output_type": "stream",
          "text": [
            "epoch : 12, epoch_loss = 3826.024721428752\n"
          ]
        },
        {
          "name": "stderr",
          "output_type": "stream",
          "text": [
            "\r 70%|███████   | 14/20 [04:12<01:48, 18.06s/it]"
          ]
        },
        {
          "name": "stdout",
          "output_type": "stream",
          "text": [
            "epoch : 13, epoch_loss = 3471.2649469077587\n"
          ]
        },
        {
          "name": "stderr",
          "output_type": "stream",
          "text": [
            "\r 75%|███████▌  | 15/20 [04:30<01:30, 18.09s/it]"
          ]
        },
        {
          "name": "stdout",
          "output_type": "stream",
          "text": [
            "epoch : 14, epoch_loss = 3162.934696048498\n"
          ]
        },
        {
          "name": "stderr",
          "output_type": "stream",
          "text": [
            "\r 80%|████████  | 16/20 [04:48<01:12, 18.08s/it]"
          ]
        },
        {
          "name": "stdout",
          "output_type": "stream",
          "text": [
            "epoch : 15, epoch_loss = 2888.3818973749876\n"
          ]
        },
        {
          "name": "stderr",
          "output_type": "stream",
          "text": [
            "\r 85%|████████▌ | 17/20 [05:06<00:54, 18.06s/it]"
          ]
        },
        {
          "name": "stdout",
          "output_type": "stream",
          "text": [
            "epoch : 16, epoch_loss = 2650.9831260740757\n"
          ]
        },
        {
          "name": "stderr",
          "output_type": "stream",
          "text": [
            "\r 90%|█████████ | 18/20 [05:24<00:36, 18.04s/it]"
          ]
        },
        {
          "name": "stdout",
          "output_type": "stream",
          "text": [
            "epoch : 17, epoch_loss = 2445.053266212344\n"
          ]
        },
        {
          "name": "stderr",
          "output_type": "stream",
          "text": [
            "\r 95%|█████████▌| 19/20 [05:42<00:18, 18.04s/it]"
          ]
        },
        {
          "name": "stdout",
          "output_type": "stream",
          "text": [
            "epoch : 18, epoch_loss = 2263.051019228995\n"
          ]
        },
        {
          "name": "stderr",
          "output_type": "stream",
          "text": [
            "100%|██████████| 20/20 [06:00<00:00, 18.03s/it]"
          ]
        },
        {
          "name": "stdout",
          "output_type": "stream",
          "text": [
            "epoch : 19, epoch_loss = 2094.606599599123\n"
          ]
        },
        {
          "name": "stderr",
          "output_type": "stream",
          "text": [
            "\n"
          ]
        },
        {
          "data": {
            "image/png": "[encoded data removed]",
            "text/plain": [
              "<Figure size 640x480 with 1 Axes>"
            ]
          },
          "metadata": {},
          "output_type": "display_data"
        }
      ],
      "source": [
        "# models_enhanced, reps_enhanced, word_to_token_enhanced = {}, {}, {}\n",
        "\n",
        "# LAMBDAS_TO_TRY = [0, 0.03, 0.1, 1]\n",
        "\n",
        "# for LAM in LAMBDAS_TO_TRY:\n",
        "#     print(f'bulding model for LAM = {LAM}')\n",
        "#     model_image_enhanced_word2vec, reps_image_enhanced_word2vec, word_to_token_image_enhanced  = learn_reps_image_enhanced_word2vec(\n",
        "#         train_data[\"caption\"], train_data[\"image_embedding\"], WINDOW_SIZE, rep_size = WORD_EMBEDDING_SIZE,\n",
        "#         n_epochs = 20, n_batch = BATCH_SIZE, LAMBDA = LAM\n",
        "#     )\n",
        "#     models_enhanced[LAM] = model_image_enhanced_word2vec\n",
        "#     reps_enhanced[LAM] = reps_image_enhanced_word2vec\n",
        "#     word_to_token_enhanced[LAM] = word_to_token_image_enhanced"
      ]
    },
    {
      "cell_type": "code",
      "execution_count": null,
      "metadata": {
        "colab": {
          "base_uri": "https://localhost:8080/",
          "height": 1000
        },
        "id": "pQ0ySftJau92",
        "outputId": "332afd58-2e86-437f-e638-6b76c2375a0c"
      },
      "outputs": [
        {
          "name": "stdout",
          "output_type": "stream",
          "text": [
            "bulding model for LAM = 2\n",
            "7889 7889\n"
          ]
        },
        {
          "name": "stderr",
          "output_type": "stream",
          "text": [
            "  5%|▌         | 1/20 [00:19<06:11, 19.56s/it]"
          ]
        },
        {
          "name": "stdout",
          "output_type": "stream",
          "text": [
            "epoch : 0, epoch_loss = 26355.341864585876\n"
          ]
        },
        {
          "name": "stderr",
          "output_type": "stream",
          "text": [
            "\r 10%|█         | 2/20 [00:40<06:07, 20.40s/it]"
          ]
        },
        {
          "name": "stdout",
          "output_type": "stream",
          "text": [
            "epoch : 1, epoch_loss = 18802.040269851685\n"
          ]
        },
        {
          "name": "stderr",
          "output_type": "stream",
          "text": [
            "\r 15%|█▌        | 3/20 [00:58<05:29, 19.37s/it]"
          ]
        },
        {
          "name": "stdout",
          "output_type": "stream",
          "text": [
            "epoch : 2, epoch_loss = 14701.81845164299\n"
          ]
        },
        {
          "name": "stderr",
          "output_type": "stream",
          "text": [
            "\r 20%|██        | 4/20 [01:16<05:00, 18.81s/it]"
          ]
        },
        {
          "name": "stdout",
          "output_type": "stream",
          "text": [
            "epoch : 3, epoch_loss = 11938.208673000336\n"
          ]
        },
        {
          "name": "stderr",
          "output_type": "stream",
          "text": [
            "\r 25%|██▌       | 5/20 [01:34<04:39, 18.63s/it]"
          ]
        },
        {
          "name": "stdout",
          "output_type": "stream",
          "text": [
            "epoch : 4, epoch_loss = 10045.74708199501\n"
          ]
        },
        {
          "name": "stderr",
          "output_type": "stream",
          "text": [
            "\r 30%|███       | 6/20 [01:52<04:17, 18.40s/it]"
          ]
        },
        {
          "name": "stdout",
          "output_type": "stream",
          "text": [
            "epoch : 5, epoch_loss = 8657.295169889927\n"
          ]
        },
        {
          "name": "stderr",
          "output_type": "stream",
          "text": [
            "\r 35%|███▌      | 7/20 [02:10<03:57, 18.26s/it]"
          ]
        },
        {
          "name": "stdout",
          "output_type": "stream",
          "text": [
            "epoch : 6, epoch_loss = 7567.448434412479\n"
          ]
        },
        {
          "name": "stderr",
          "output_type": "stream",
          "text": [
            "\r 40%|████      | 8/20 [02:29<03:38, 18.24s/it]"
          ]
        },
        {
          "name": "stdout",
          "output_type": "stream",
          "text": [
            "epoch : 7, epoch_loss = 6671.552060127258\n"
          ]
        },
        {
          "name": "stderr",
          "output_type": "stream",
          "text": [
            "\r 45%|████▌     | 9/20 [02:47<03:20, 18.21s/it]"
          ]
        },
        {
          "name": "stdout",
          "output_type": "stream",
          "text": [
            "epoch : 8, epoch_loss = 5930.191428899765\n"
          ]
        },
        {
          "name": "stderr",
          "output_type": "stream",
          "text": [
            "\r 50%|█████     | 10/20 [03:05<03:01, 18.12s/it]"
          ]
        },
        {
          "name": "stdout",
          "output_type": "stream",
          "text": [
            "epoch : 9, epoch_loss = 5293.741017878056\n"
          ]
        },
        {
          "name": "stderr",
          "output_type": "stream",
          "text": [
            "\r 55%|█████▌    | 11/20 [03:23<02:43, 18.20s/it]"
          ]
        },
        {
          "name": "stdout",
          "output_type": "stream",
          "text": [
            "epoch : 10, epoch_loss = 4753.0294687747955\n"
          ]
        },
        {
          "name": "stderr",
          "output_type": "stream",
          "text": [
            "\r 60%|██████    | 12/20 [03:41<02:24, 18.11s/it]"
          ]
        },
        {
          "name": "stdout",
          "output_type": "stream",
          "text": [
            "epoch : 11, epoch_loss = 4289.9232514202595\n"
          ]
        },
        {
          "name": "stderr",
          "output_type": "stream",
          "text": [
            "\r 65%|██████▌   | 13/20 [03:59<02:06, 18.06s/it]"
          ]
        },
        {
          "name": "stdout",
          "output_type": "stream",
          "text": [
            "epoch : 12, epoch_loss = 3879.8822766542435\n"
          ]
        },
        {
          "name": "stderr",
          "output_type": "stream",
          "text": [
            "\r 70%|███████   | 14/20 [04:17<01:48, 18.08s/it]"
          ]
        },
        {
          "name": "stdout",
          "output_type": "stream",
          "text": [
            "epoch : 13, epoch_loss = 3524.221575587988\n"
          ]
        },
        {
          "name": "stderr",
          "output_type": "stream",
          "text": [
            "\r 75%|███████▌  | 15/20 [04:35<01:30, 18.11s/it]"
          ]
        },
        {
          "name": "stdout",
          "output_type": "stream",
          "text": [
            "epoch : 14, epoch_loss = 3212.701356858015\n"
          ]
        },
        {
          "name": "stderr",
          "output_type": "stream",
          "text": [
            "\r 80%|████████  | 16/20 [04:54<01:12, 18.21s/it]"
          ]
        },
        {
          "name": "stdout",
          "output_type": "stream",
          "text": [
            "epoch : 15, epoch_loss = 2938.569747135043\n"
          ]
        },
        {
          "name": "stderr",
          "output_type": "stream",
          "text": [
            "\r 85%|████████▌ | 17/20 [05:12<00:54, 18.14s/it]"
          ]
        },
        {
          "name": "stdout",
          "output_type": "stream",
          "text": [
            "epoch : 16, epoch_loss = 2697.977871105075\n"
          ]
        },
        {
          "name": "stderr",
          "output_type": "stream",
          "text": [
            "\r 90%|█████████ | 18/20 [05:30<00:36, 18.08s/it]"
          ]
        },
        {
          "name": "stdout",
          "output_type": "stream",
          "text": [
            "epoch : 17, epoch_loss = 2483.021990314126\n"
          ]
        },
        {
          "name": "stderr",
          "output_type": "stream",
          "text": [
            "\r 95%|█████████▌| 19/20 [05:48<00:18, 18.04s/it]"
          ]
        },
        {
          "name": "stdout",
          "output_type": "stream",
          "text": [
            "epoch : 18, epoch_loss = 2295.996480844915\n"
          ]
        },
        {
          "name": "stderr",
          "output_type": "stream",
          "text": [
            "100%|██████████| 20/20 [06:06<00:00, 18.30s/it]"
          ]
        },
        {
          "name": "stdout",
          "output_type": "stream",
          "text": [
            "epoch : 19, epoch_loss = 2128.856720417738\n"
          ]
        },
        {
          "name": "stderr",
          "output_type": "stream",
          "text": [
            "\n"
          ]
        },
        {
          "data": {
            "image/png": "[encoded data removed]",
            "text/plain": [
              "<Figure size 640x480 with 1 Axes>"
            ]
          },
          "metadata": {},
          "output_type": "display_data"
        },
        {
          "name": "stdout",
          "output_type": "stream",
          "text": [
            "bulding model for LAM = 5\n",
            "7889 7889\n"
          ]
        },
        {
          "name": "stderr",
          "output_type": "stream",
          "text": [
            "  5%|▌         | 1/20 [00:17<05:40, 17.92s/it]"
          ]
        },
        {
          "name": "stdout",
          "output_type": "stream",
          "text": [
            "epoch : 0, epoch_loss = 26505.480271577835\n"
          ]
        },
        {
          "name": "stderr",
          "output_type": "stream",
          "text": [
            "\r 10%|█         | 2/20 [00:35<05:22, 17.92s/it]"
          ]
        },
        {
          "name": "stdout",
          "output_type": "stream",
          "text": [
            "epoch : 1, epoch_loss = 19136.636944532394\n"
          ]
        },
        {
          "name": "stderr",
          "output_type": "stream",
          "text": [
            "\r 15%|█▌        | 3/20 [00:53<05:04, 17.90s/it]"
          ]
        },
        {
          "name": "stdout",
          "output_type": "stream",
          "text": [
            "epoch : 2, epoch_loss = 15121.6407392025\n"
          ]
        },
        {
          "name": "stderr",
          "output_type": "stream",
          "text": [
            "\r 20%|██        | 4/20 [01:11<04:47, 17.99s/it]"
          ]
        },
        {
          "name": "stdout",
          "output_type": "stream",
          "text": [
            "epoch : 3, epoch_loss = 12529.645778298378\n"
          ]
        },
        {
          "name": "stderr",
          "output_type": "stream",
          "text": [
            "\r 25%|██▌       | 5/20 [01:30<04:30, 18.06s/it]"
          ]
        },
        {
          "name": "stdout",
          "output_type": "stream",
          "text": [
            "epoch : 4, epoch_loss = 10796.557315826416\n"
          ]
        },
        {
          "name": "stderr",
          "output_type": "stream",
          "text": [
            "\r 30%|███       | 6/20 [01:48<04:12, 18.06s/it]"
          ]
        },
        {
          "name": "stdout",
          "output_type": "stream",
          "text": [
            "epoch : 5, epoch_loss = 9487.186234235764\n"
          ]
        },
        {
          "name": "stderr",
          "output_type": "stream",
          "text": [
            "\r 35%|███▌      | 7/20 [02:06<03:54, 18.02s/it]"
          ]
        },
        {
          "name": "stdout",
          "output_type": "stream",
          "text": [
            "epoch : 6, epoch_loss = 8435.240039050579\n"
          ]
        },
        {
          "name": "stderr",
          "output_type": "stream",
          "text": [
            "\r 40%|████      | 8/20 [02:23<03:35, 17.98s/it]"
          ]
        },
        {
          "name": "stdout",
          "output_type": "stream",
          "text": [
            "epoch : 7, epoch_loss = 7533.701445877552\n"
          ]
        },
        {
          "name": "stderr",
          "output_type": "stream",
          "text": [
            "\r 45%|████▌     | 9/20 [02:41<03:17, 17.96s/it]"
          ]
        },
        {
          "name": "stdout",
          "output_type": "stream",
          "text": [
            "epoch : 8, epoch_loss = 6785.996468245983\n"
          ]
        },
        {
          "name": "stderr",
          "output_type": "stream",
          "text": [
            "\r 50%|█████     | 10/20 [02:59<02:59, 17.97s/it]"
          ]
        },
        {
          "name": "stdout",
          "output_type": "stream",
          "text": [
            "epoch : 9, epoch_loss = 6127.137104213238\n"
          ]
        },
        {
          "name": "stderr",
          "output_type": "stream",
          "text": [
            "\r 55%|█████▌    | 11/20 [03:17<02:42, 18.03s/it]"
          ]
        },
        {
          "name": "stdout",
          "output_type": "stream",
          "text": [
            "epoch : 10, epoch_loss = 5560.03414940834\n"
          ]
        },
        {
          "name": "stderr",
          "output_type": "stream",
          "text": [
            "\r 60%|██████    | 12/20 [03:36<02:24, 18.06s/it]"
          ]
        },
        {
          "name": "stdout",
          "output_type": "stream",
          "text": [
            "epoch : 11, epoch_loss = 5051.863714814186\n"
          ]
        },
        {
          "name": "stderr",
          "output_type": "stream",
          "text": [
            "\r 65%|██████▌   | 13/20 [03:54<02:06, 18.06s/it]"
          ]
        },
        {
          "name": "stdout",
          "output_type": "stream",
          "text": [
            "epoch : 12, epoch_loss = 4618.008727103472\n"
          ]
        },
        {
          "name": "stderr",
          "output_type": "stream",
          "text": [
            "\r 70%|███████   | 14/20 [04:12<01:48, 18.10s/it]"
          ]
        },
        {
          "name": "stdout",
          "output_type": "stream",
          "text": [
            "epoch : 13, epoch_loss = 4222.891133874655\n"
          ]
        },
        {
          "name": "stderr",
          "output_type": "stream",
          "text": [
            "\r 75%|███████▌  | 15/20 [04:30<01:30, 18.13s/it]"
          ]
        },
        {
          "name": "stdout",
          "output_type": "stream",
          "text": [
            "epoch : 14, epoch_loss = 3873.140489190817\n"
          ]
        },
        {
          "name": "stderr",
          "output_type": "stream",
          "text": [
            "\r 80%|████████  | 16/20 [04:48<01:12, 18.17s/it]"
          ]
        },
        {
          "name": "stdout",
          "output_type": "stream",
          "text": [
            "epoch : 15, epoch_loss = 3566.777669608593\n"
          ]
        },
        {
          "name": "stderr",
          "output_type": "stream",
          "text": [
            "\r 85%|████████▌ | 17/20 [05:07<00:54, 18.31s/it]"
          ]
        },
        {
          "name": "stdout",
          "output_type": "stream",
          "text": [
            "epoch : 16, epoch_loss = 3289.436374604702\n"
          ]
        },
        {
          "name": "stderr",
          "output_type": "stream",
          "text": [
            "\r 90%|█████████ | 18/20 [05:25<00:36, 18.35s/it]"
          ]
        },
        {
          "name": "stdout",
          "output_type": "stream",
          "text": [
            "epoch : 17, epoch_loss = 3042.4466812089086\n"
          ]
        },
        {
          "name": "stderr",
          "output_type": "stream",
          "text": [
            "\r 95%|█████████▌| 19/20 [05:44<00:18, 18.32s/it]"
          ]
        },
        {
          "name": "stdout",
          "output_type": "stream",
          "text": [
            "epoch : 18, epoch_loss = 2823.381830945611\n"
          ]
        },
        {
          "name": "stderr",
          "output_type": "stream",
          "text": [
            "100%|██████████| 20/20 [06:02<00:00, 18.11s/it]"
          ]
        },
        {
          "name": "stdout",
          "output_type": "stream",
          "text": [
            "epoch : 19, epoch_loss = 2620.3776367902756\n"
          ]
        },
        {
          "name": "stderr",
          "output_type": "stream",
          "text": [
            "\n"
          ]
        },
        {
          "data": {
            "image/png": "[encoded data removed]",
            "text/plain": [
              "<Figure size 640x480 with 1 Axes>"
            ]
          },
          "metadata": {},
          "output_type": "display_data"
        }
      ],
      "source": [
        "# for LAM in [2, 5]:\n",
        "#     print(f'bulding model for LAM = {LAM}')\n",
        "#     model_image_enhanced_word2vec, reps_image_enhanced_word2vec, word_to_token_image_enhanced  = learn_reps_image_enhanced_word2vec(\n",
        "#         train_data[\"caption\"], train_data[\"image_embedding\"], WINDOW_SIZE, rep_size = WORD_EMBEDDING_SIZE,\n",
        "#         n_epochs = 20, n_batch = BATCH_SIZE, LAMBDA = LAM\n",
        "#     )\n",
        "#     models_enhanced[LAM] = model_image_enhanced_word2vec\n",
        "#     reps_enhanced[LAM] = reps_image_enhanced_word2vec\n",
        "#     word_to_token_enhanced[LAM] = word_to_token_image_enhanced"
      ]
    },
    {
      "cell_type": "code",
      "execution_count": null,
      "metadata": {
        "id": "jQWEkuxhG6xY"
      },
      "outputs": [],
      "source": [
        "train_averaged_image_embeddings = averaged_image_embeddings(train_data,\n",
        "                                                            list(word_to_token_enhanced[0].keys()) )"
      ]
    },
    {
      "cell_type": "code",
      "execution_count": null,
      "metadata": {
        "colab": {
          "base_uri": "https://localhost:8080/",
          "height": 865
        },
        "id": "80gK300OV22U",
        "outputId": "da9ab754-7fd0-47f2-e33a-e38e73b89bd0"
      },
      "outputs": [
        {
          "name": "stdout",
          "output_type": "stream",
          "text": [
            "Captions in dataset generated 84165 5-grams\n"
          ]
        },
        {
          "name": "stderr",
          "output_type": "stream",
          "text": [
            "  5%|▌         | 1/20 [00:08<02:34,  8.14s/it]"
          ]
        },
        {
          "name": "stdout",
          "output_type": "stream",
          "text": [
            "epoch : 0, epoch_loss = 28468.083913087845\n"
          ]
        },
        {
          "name": "stderr",
          "output_type": "stream",
          "text": [
            "\r 10%|█         | 2/20 [00:18<02:53,  9.61s/it]"
          ]
        },
        {
          "name": "stdout",
          "output_type": "stream",
          "text": [
            "epoch : 1, epoch_loss = 21869.97053050995\n"
          ]
        },
        {
          "name": "stderr",
          "output_type": "stream",
          "text": [
            "\r 15%|█▌        | 3/20 [00:26<02:31,  8.93s/it]"
          ]
        },
        {
          "name": "stdout",
          "output_type": "stream",
          "text": [
            "epoch : 2, epoch_loss = 19003.05240225792\n"
          ]
        },
        {
          "name": "stderr",
          "output_type": "stream",
          "text": [
            "\r 20%|██        | 4/20 [00:35<02:22,  8.92s/it]"
          ]
        },
        {
          "name": "stdout",
          "output_type": "stream",
          "text": [
            "epoch : 3, epoch_loss = 17021.10440635681\n"
          ]
        },
        {
          "name": "stderr",
          "output_type": "stream",
          "text": [
            "\r 25%|██▌       | 5/20 [00:44<02:10,  8.71s/it]"
          ]
        },
        {
          "name": "stdout",
          "output_type": "stream",
          "text": [
            "epoch : 4, epoch_loss = 15515.04370880127\n"
          ]
        },
        {
          "name": "stderr",
          "output_type": "stream",
          "text": [
            "\r 30%|███       | 6/20 [00:53<02:02,  8.77s/it]"
          ]
        },
        {
          "name": "stdout",
          "output_type": "stream",
          "text": [
            "epoch : 5, epoch_loss = 14329.788919568062\n"
          ]
        },
        {
          "name": "stderr",
          "output_type": "stream",
          "text": [
            "\r 35%|███▌      | 7/20 [01:02<01:58,  9.12s/it]"
          ]
        },
        {
          "name": "stdout",
          "output_type": "stream",
          "text": [
            "epoch : 6, epoch_loss = 13365.870797395706\n"
          ]
        },
        {
          "name": "stderr",
          "output_type": "stream",
          "text": [
            "\r 40%|████      | 8/20 [01:11<01:46,  8.84s/it]"
          ]
        },
        {
          "name": "stdout",
          "output_type": "stream",
          "text": [
            "epoch : 7, epoch_loss = 12540.251320242882\n"
          ]
        },
        {
          "name": "stderr",
          "output_type": "stream",
          "text": [
            "\r 45%|████▌     | 9/20 [01:20<01:37,  8.87s/it]"
          ]
        },
        {
          "name": "stdout",
          "output_type": "stream",
          "text": [
            "epoch : 8, epoch_loss = 11842.242453694344\n"
          ]
        },
        {
          "name": "stderr",
          "output_type": "stream",
          "text": [
            "\r 50%|█████     | 10/20 [01:28<01:26,  8.63s/it]"
          ]
        },
        {
          "name": "stdout",
          "output_type": "stream",
          "text": [
            "epoch : 9, epoch_loss = 11189.568484604359\n"
          ]
        },
        {
          "name": "stderr",
          "output_type": "stream",
          "text": [
            "\r 55%|█████▌    | 11/20 [01:37<01:18,  8.75s/it]"
          ]
        },
        {
          "name": "stdout",
          "output_type": "stream",
          "text": [
            "epoch : 10, epoch_loss = 10634.95956671238\n"
          ]
        },
        {
          "name": "stderr",
          "output_type": "stream",
          "text": [
            "\r 60%|██████    | 12/20 [01:45<01:09,  8.64s/it]"
          ]
        },
        {
          "name": "stdout",
          "output_type": "stream",
          "text": [
            "epoch : 11, epoch_loss = 10115.012705683708\n"
          ]
        },
        {
          "name": "stderr",
          "output_type": "stream",
          "text": [
            "\r 65%|██████▌   | 13/20 [01:54<01:00,  8.69s/it]"
          ]
        },
        {
          "name": "stdout",
          "output_type": "stream",
          "text": [
            "epoch : 12, epoch_loss = 9651.240354299545\n"
          ]
        },
        {
          "name": "stderr",
          "output_type": "stream",
          "text": [
            "\r 70%|███████   | 14/20 [02:02<00:51,  8.66s/it]"
          ]
        },
        {
          "name": "stdout",
          "output_type": "stream",
          "text": [
            "epoch : 13, epoch_loss = 9225.35720038414\n"
          ]
        },
        {
          "name": "stderr",
          "output_type": "stream",
          "text": [
            "\r 75%|███████▌  | 15/20 [02:11<00:43,  8.63s/it]"
          ]
        },
        {
          "name": "stdout",
          "output_type": "stream",
          "text": [
            "epoch : 14, epoch_loss = 8848.935852348804\n"
          ]
        },
        {
          "name": "stderr",
          "output_type": "stream",
          "text": [
            "\r 80%|████████  | 16/20 [02:20<00:34,  8.67s/it]"
          ]
        },
        {
          "name": "stdout",
          "output_type": "stream",
          "text": [
            "epoch : 15, epoch_loss = 8507.873511254787\n"
          ]
        },
        {
          "name": "stderr",
          "output_type": "stream",
          "text": [
            "\r 85%|████████▌ | 17/20 [02:28<00:25,  8.55s/it]"
          ]
        },
        {
          "name": "stdout",
          "output_type": "stream",
          "text": [
            "epoch : 16, epoch_loss = 8194.252975165844\n"
          ]
        },
        {
          "name": "stderr",
          "output_type": "stream",
          "text": [
            "\r 90%|█████████ | 18/20 [02:37<00:17,  8.66s/it]"
          ]
        },
        {
          "name": "stdout",
          "output_type": "stream",
          "text": [
            "epoch : 17, epoch_loss = 7920.735858619213\n"
          ]
        },
        {
          "name": "stderr",
          "output_type": "stream",
          "text": [
            "\r 95%|█████████▌| 19/20 [02:45<00:08,  8.50s/it]"
          ]
        },
        {
          "name": "stdout",
          "output_type": "stream",
          "text": [
            "epoch : 18, epoch_loss = 7661.283200055361\n"
          ]
        },
        {
          "name": "stderr",
          "output_type": "stream",
          "text": [
            "100%|██████████| 20/20 [02:54<00:00,  8.73s/it]"
          ]
        },
        {
          "name": "stdout",
          "output_type": "stream",
          "text": [
            "epoch : 19, epoch_loss = 7434.090261101723\n"
          ]
        },
        {
          "name": "stderr",
          "output_type": "stream",
          "text": [
            "\n"
          ]
        },
        {
          "data": {
            "image/png": "[encoded data removed]",
            "text/plain": [
              "<Figure size 640x480 with 1 Axes>"
            ]
          },
          "metadata": {},
          "output_type": "display_data"
        }
      ],
      "source": [
        "# # reps_word2vec = learn_reps_basic_word2vec(dataset_filtered[\"caption\"], 2, 500, 5, 100)\n",
        "# window_size = 2\n",
        "# n_batch = 20\n",
        "# embedding_size = 100\n",
        "# n_epochs = 20\n",
        "\n",
        "# model_basic_word2vec, basic_reps_word2vec, basic_word2vec_word_to_token = learn_reps_basic_word2vec(\n",
        "#     train_data[\"caption\"], window_size, embedding_size, n_epochs, n_batch)"
      ]
    },
    {
      "cell_type": "code",
      "execution_count": null,
      "metadata": {
        "colab": {
          "base_uri": "https://localhost:8080/"
        },
        "id": "BnYyLpnIT5PP",
        "outputId": "c77c0292-e5f6-4f0b-992b-a99823d7460b"
      },
      "outputs": [
        {
          "name": "stdout",
          "output_type": "stream",
          "text": [
            "Total number of pairs = 2362\n",
            "Spearman coefficient for lambda=0: 0.15516004267178174\n",
            "Total number of pairs = 2362\n",
            "Spearman coefficient for lambda=0.03: 0.1341560374214756\n",
            "Total number of pairs = 2362\n",
            "Spearman coefficient for lambda=0.1: 0.13090969791149257\n",
            "Total number of pairs = 2362\n",
            "Spearman coefficient for lambda=1: 0.11596816077543752\n",
            "Total number of pairs = 2362\n",
            "Spearman coefficient for lambda=2: 0.11047231268046015\n",
            "Total number of pairs = 2362\n",
            "Spearman coefficient for lambda=5: 0.12498883242512865\n"
          ]
        }
      ],
      "source": [
        "# # old versions, without lambad multiplication\n",
        "# for LAM in LAMBDAS_TO_TRY:\n",
        "#     sim_score = compare_similarities(words_and_scores = process_med_data(),\n",
        "#                                  word_to_token = word_to_token_enhanced[LAM],\n",
        "#                                  learnt_reps = reps_enhanced[LAM],\n",
        "#                                   averaged_image_embeddings = train_averaged_image_embeddings)\n",
        "\n",
        "#     print(f\"Spearman coefficient for lambda={LAM}: {sim_score}\")"
      ]
    },
    {
      "cell_type": "code",
      "execution_count": null,
      "metadata": {
        "id": "7lcIDanMHIQ1"
      },
      "outputs": [],
      "source": [
        "# # this is same as dot(A, B) / (||A|| * ||B||)\n",
        "# from sklearn.metrics.pairwise import cosine_similarity\n",
        "# # The Spearman rank-order correlation coefficient is a nonparametric measure of the monotonicity of the relationship between two datasets\n",
        "# from scipy.stats import spearmanr\n",
        "# from google.colab import drive\n",
        "\n",
        "# men_data_file_path = f\"{DRIVE_BASE_PATH}/MEN Data/MEN_dataset_natural_form_full\"\n",
        "\n",
        "# def process_med_data():\n",
        "#     file1 = open(men_data_file_path, 'r')\n",
        "#     lines = file1.readlines()\n",
        "\n",
        "#     words_and_scores = []\n",
        "\n",
        "#     # Strips the newline character\n",
        "#     for line in lines:\n",
        "#         arr = line.split()\n",
        "#         assert(len(arr) == 3)\n",
        "#         words_and_scores.append( [arr[0], arr[1], float(arr[2]) * 2] )\n",
        "\n",
        "#     return words_and_scores\n",
        "\n",
        "# def compare_similarities_upd(words_and_scores, word_to_token, learnt_reps,\n",
        "#                          averaged_image_embeddings = None, LAM = None):\n",
        "#     \"\"\"\n",
        "#     words_and_scores : list of triples (w1, w2, men_score)\n",
        "#     \"\"\"\n",
        "\n",
        "#     cosine_similarities, men_scores = [], []\n",
        "#     for w1, w2, score in words_and_scores:\n",
        "\n",
        "#       if (w1 not in word_to_token.keys()) or (w2 not in word_to_token.keys()):\n",
        "#         continue\n",
        "\n",
        "#       embed1, embed2 = learnt_reps[word_to_token[w1]], learnt_reps[word_to_token[w2]]\n",
        "\n",
        "#       # assert type(embed1) == list, f\"{type(embed1)}\"\n",
        "\n",
        "#       if averaged_image_embeddings is not None:\n",
        "#         if (w1 not in averaged_image_embeddings.keys()) or (w2 not in averaged_image_embeddings.keys()):\n",
        "#             continue\n",
        "#         else:\n",
        "#           assert LAM is not None\n",
        "#           embed1 = np.concatenate([ (1 / (1 + LAM)) * embed1,\n",
        "#                 (LAM / (1 + LAM)) * averaged_image_embeddings[w1].reshape(-1)]\n",
        "#                                   )\n",
        "\n",
        "#           embed2 = np.concatenate([ (1 / (1 + LAM)) * embed2,\n",
        "#                 (LAM / (1 + LAM)) * averaged_image_embeddings[w2].reshape(-1)]\n",
        "#                                   )\n",
        "\n",
        "#       cosine_similarities.append( cosine_similarity(embed1.reshape(1, -1), embed2.reshape(1, -1))[0][0] )\n",
        "#       men_scores.append(score)\n",
        "\n",
        "#     print(f'Total number of pairs = {len(cosine_similarities)}')\n",
        "\n",
        "#     # return np.corrcoef(cosine_similarities, men_scores)\n",
        "#     spearman_coef = spearmanr(cosine_similarities, men_scores)\n",
        "#     return spearman_coef.statistic"
      ]
    },
    {
      "cell_type": "code",
      "execution_count": null,
      "metadata": {
        "colab": {
          "base_uri": "https://localhost:8080/"
        },
        "id": "z-QvTaF4UWZA",
        "outputId": "021b18a1-898e-4d5c-cb21-0f8ae08367c0"
      },
      "outputs": [
        {
          "name": "stdout",
          "output_type": "stream",
          "text": [
            "Total number of pairs = 2362\n",
            "Spearman coefficient for lambda=0: 0.12196654002108154\n",
            "Total number of pairs = 2362\n",
            "Spearman coefficient for lambda=0.03: 0.10081857153736659\n",
            "Total number of pairs = 2362\n",
            "Spearman coefficient for lambda=0.1: 0.09747044725358427\n",
            "Total number of pairs = 2362\n",
            "Spearman coefficient for lambda=1: 0.11596816077543752\n",
            "Total number of pairs = 2362\n",
            "Spearman coefficient for lambda=2: 0.18608085106407551\n",
            "Total number of pairs = 2362\n",
            "Spearman coefficient for lambda=5: 0.4047901551566139\n"
          ]
        }
      ],
      "source": [
        "# new versions, proper.\n",
        "for LAM in LAMBDAS_TO_TRY:\n",
        "    sim_score = compare_similarities_upd(words_and_scores = process_med_data(),\n",
        "                                 word_to_token = word_to_token_enhanced[LAM],\n",
        "                                 learnt_reps = reps_enhanced[LAM],\n",
        "                                  averaged_image_embeddings = train_averaged_image_embeddings,\n",
        "                                     LAM = LAM)\n",
        "\n",
        "    print(f\"Spearman coefficient for lambda={LAM}: {sim_score}\")"
      ]
    },
    {
      "cell_type": "code",
      "execution_count": null,
      "metadata": {
        "colab": {
          "base_uri": "https://localhost:8080/"
        },
        "id": "WKS2hwotUfDU",
        "outputId": "c50e8832-28c8-40fa-9153-66dd9be537e2"
      },
      "outputs": [
        {
          "name": "stdout",
          "output_type": "stream",
          "text": [
            "Total number of pairs = 2362\n",
            "Spearman coefficient for baseline word2vec: 0.14638061051414153\n"
          ]
        }
      ],
      "source": [
        "# sim_score = compare_similarities(words_and_scores = process_med_data(),\n",
        "#                               word_to_token = basic_word2vec_word_to_token,\n",
        "#                               learnt_reps = basic_reps_word2vec)\n",
        "\n",
        "# print(f\"Spearman coefficient for baseline word2vec: {sim_score}\")"
      ]
    },
    {
      "cell_type": "code",
      "execution_count": null,
      "metadata": {
        "id": "3M_p1i3HWqHt"
      },
      "outputs": [],
      "source": []
    },
    {
      "cell_type": "markdown",
      "source": [
        "# Cross Attention Encoder Experiments"
      ],
      "metadata": {
        "id": "ULPNAu1iiuzg"
      }
    },
    {
      "cell_type": "code",
      "source": [
        "!pip install torch transformers"
      ],
      "metadata": {
        "id": "zee-R8qYivop"
      },
      "execution_count": null,
      "outputs": []
    },
    {
      "cell_type": "code",
      "source": [
        "import torch\n",
        "from torch import nn\n",
        "from transformers import ViTModel, BertModel, ViTFeatureExtractor, BertTokenizer\n",
        "\n",
        "class CrossAttentionLayer(nn.Module):\n",
        "    def __init__(self, text_emb_size, image_emb_size, num_heads):\n",
        "        super().__init__()\n",
        "        self.text_emb_size = text_emb_size\n",
        "        self.image_emb_size = image_emb_size\n",
        "        self.num_heads = num_heads\n",
        "        self.cross_attention = nn.MultiheadAttention(embed_dim=text_emb_size, num_heads=num_heads, kdim=image_emb_size, vdim=image_emb_size)\n",
        "\n",
        "    def forward(self, text_features, image_features):\n",
        "        # text_features: [batch_size, text_seq_len, text_emb_size]\n",
        "        # image_features: [batch_size, num_patches, image_emb_size]\n",
        "        # Cross-attention where text attends to image\n",
        "        print(image_features.shape)\n",
        "        # text_features = text_features.unsqueeze(1)\n",
        "        image_features = image_features.unsqueeze(0)\n",
        "        print(image_features.shape)\n",
        "        attn_output, _ = self.cross_attention(query=text_features, key=image_features, value=image_features)\n",
        "        return attn_output\n",
        "\n",
        "class ModifiedHybridEncoder(nn.Module):\n",
        "    def __init__(self, text_model_name, image_emb_size, num_heads):\n",
        "        super().__init__()\n",
        "        self.text_encoder = BertModel.from_pretrained(text_model_name)\n",
        "\n",
        "        text_emb_size = self.text_encoder.config.hidden_size\n",
        "        self.cross_attention = CrossAttentionLayer(text_emb_size, image_emb_size, num_heads)\n",
        "\n",
        "    def forward(self, input_ids, attention_mask, image_embeddings):\n",
        "        # Encode text\n",
        "        text_outputs = self.text_encoder(input_ids=input_ids, attention_mask=attention_mask)\n",
        "        text_features = text_outputs.last_hidden_state\n",
        "\n",
        "        # Use precomputed image embeddings\n",
        "        combined_features = self.cross_attention(text_features, image_embeddings)\n",
        "        return combined_features\n",
        "\n",
        "# Instantiate the modified model\n",
        "model = ModifiedHybridEncoder('bert-base-uncased', IMAGE_EMBEDDING_SIZE, num_heads=8)\n",
        "\n",
        "# # Example usage\n",
        "# text = \"Example text input\"\n",
        "# image =  # Replace this with actual image data\n",
        "\n",
        "# inputs = tokenizer(text, return_tensors=\"pt\")\n",
        "# inputs.update(feature_extractor(images=image, return_tensors=\"pt\"))\n",
        "\n",
        "# with torch.no_grad():\n",
        "#     outputs = model(**inputs)\n",
        "#     print(outputs.shape)  # Outputs' shape will give you an idea of the combined feature representation\n"
      ],
      "metadata": {
        "id": "lEQ6Y9ugi2GA"
      },
      "execution_count": null,
      "outputs": []
    },
    {
      "cell_type": "code",
      "source": [
        "from torch.utils.data import Dataset, DataLoader\n",
        "\n",
        "class ImageCaptionDataset(Dataset):\n",
        "    def __init__(self, data, tokenizer, max_length=512):\n",
        "        self.data = data\n",
        "        self.tokenizer = tokenizer\n",
        "        self.max_length = max_length\n",
        "\n",
        "    def __len__(self):\n",
        "        return len(self.data)\n",
        "\n",
        "    def __getitem__(self, idx):\n",
        "        item = self.data[idx]\n",
        "        caption = item['caption']\n",
        "        embedding = item['embedding']\n",
        "\n",
        "        inputs = self.tokenizer(caption, max_length=self.max_length, truncation=True, padding='max_length', return_tensors=\"pt\")\n",
        "        return {'input_ids': inputs['input_ids'].squeeze(0),\n",
        "                'attention_mask': inputs['attention_mask'].squeeze(0),\n",
        "                'image_embeddings': torch.tensor(embedding)}\n",
        "\n",
        "tokenizer = BertTokenizer.from_pretrained('bert-base-uncased')\n",
        "dataset = ImageCaptionDataset(train_data, tokenizer)\n",
        "dataloader = DataLoader(dataset, batch_size=BATCH_SIZE, shuffle=True)\n"
      ],
      "metadata": {
        "id": "gbBWeYz-i339"
      },
      "execution_count": null,
      "outputs": []
    },
    {
      "cell_type": "code",
      "source": [
        "import torch\n",
        "import torch.nn.functional as F\n",
        "\n",
        "def cosine_similarity(vec_a, vec_b):\n",
        "    return F.cosine_similarity(vec_a, vec_b, dim=1)\n",
        "\n",
        "def contrastive_loss(anchor, positive, negative, margin):\n",
        "    # Distance between the anchor and the positive example\n",
        "    pos_dist = F.pairwise_distance(anchor, positive)\n",
        "    # Distance between the anchor and the negative example\n",
        "    neg_dist = F.pairwise_distance(anchor, negative)\n",
        "\n",
        "    # Contrastive loss\n",
        "    loss = torch.clamp(margin + pos_dist - neg_dist, min=0.0)\n",
        "    return loss.mean()"
      ],
      "metadata": {
        "id": "n_x44XRii7X7"
      },
      "execution_count": null,
      "outputs": []
    },
    {
      "cell_type": "code",
      "source": [
        "LR = 0.001\n",
        "EPOCHS = 10"
      ],
      "metadata": {
        "id": "X3Kaace0i85n"
      },
      "execution_count": null,
      "outputs": []
    },
    {
      "cell_type": "code",
      "source": [
        "def process_batch(text_vectors, image_vectors, margin, similarity_threshold=0.5):\n",
        "    batch_size = text_vectors.size(0)\n",
        "    losses = []\n",
        "\n",
        "    for i in range(batch_size):\n",
        "        anchor_text = text_vectors[i].unsqueeze(0)\n",
        "        anchor_image = image_vectors[i].unsqueeze(0)\n",
        "\n",
        "        # Initialize variables for positive and negative text vectors\n",
        "        positive_texts = []\n",
        "        negative_texts = []\n",
        "\n",
        "        # Determine positive and negative samples\n",
        "        for j in range(batch_size):\n",
        "            if i != j:\n",
        "                comparison_image = image_vectors[j].unsqueeze(0)\n",
        "                image_sim = cosine_similarity(anchor_image, comparison_image)\n",
        "\n",
        "                if image_sim > similarity_threshold:\n",
        "                    positive_texts.append(text_vectors[j])\n",
        "                else:\n",
        "                    negative_texts.append(text_vectors[j])\n",
        "\n",
        "        # Calculate contrastive loss for all positive and negative pairs\n",
        "        for pos_text in positive_texts:\n",
        "            for neg_text in negative_texts:\n",
        "                loss = contrastive_loss(anchor_text, pos_text.unsqueeze(0), neg_text.unsqueeze(0), margin)\n",
        "                losses.append(loss)\n",
        "\n",
        "    # Aggregate and return the total loss\n",
        "    total_loss = torch.stack(losses).mean() if losses else torch.tensor(0.0)\n",
        "    return total_loss\n"
      ],
      "metadata": {
        "id": "gGCkwreSi-QS"
      },
      "execution_count": null,
      "outputs": []
    },
    {
      "cell_type": "code",
      "source": [
        "# Define optimizer\n",
        "optimizer = torch.optim.Adam(model.parameters(), lr=LR)\n",
        "\n",
        "# Training Loop\n",
        "for epoch in range(EPOCHS):\n",
        "    model.train()\n",
        "    total_loss = 0\n",
        "\n",
        "    for batch in dataloader:\n",
        "        optimizer.zero_grad()\n",
        "\n",
        "        input_ids = batch['input_ids']\n",
        "        attention_mask = batch['attention_mask']\n",
        "        image_embeddings = batch['image_embeddings']  # Precomputed image embeddings\n",
        "\n",
        "        # Get text embeddings from the model\n",
        "        text_embeddings = model(input_ids=input_ids, attention_mask=attention_mask, image_embeddings=image_embeddings)\n",
        "\n",
        "        # Compute contrastive loss\n",
        "        loss = process_batch(text_embeddings, image_embeddings, margin=1.0, similarity_threshold=0.5)\n",
        "        total_loss += loss.item()\n",
        "\n",
        "        # Backpropagation\n",
        "        loss.backward()\n",
        "        optimizer.step()\n",
        "\n",
        "    avg_loss = total_loss / len(dataloader)\n",
        "    print(f\"Epoch {epoch}, Average Loss: {avg_loss}\")\n"
      ],
      "metadata": {
        "id": "OE0M9zW0jACV"
      },
      "execution_count": null,
      "outputs": []
    }
  ],
  "metadata": {
    "accelerator": "GPU",
    "colab": {
      "machine_shape": "hm",
      "toc_visible": true,
      "provenance": []
    },
    "kernelspec": {
      "display_name": "Python 3",
      "name": "python3"
    },
    "language_info": {
      "name": "python"
    }
  },
  "nbformat": 4,
  "nbformat_minor": 0
}